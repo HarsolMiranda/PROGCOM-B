{
  "nbformat": 4,
  "nbformat_minor": 0,
  "metadata": {
    "colab": {
      "provenance": []
    },
    "kernelspec": {
      "name": "python3",
      "display_name": "Python 3"
    },
    "language_info": {
      "name": "python"
    }
  },
  "cells": [
    {
      "cell_type": "markdown",
      "source": [
        "#Diccionarios\n",
        "estrcutra de datos que alamacena valores\n",
        "\n",
        "Sintaxis\n",
        "\n",
        "\n",
        "\n",
        "nombre_diccionario={\"llave\":valor}\n",
        "\n",
        "*llave: **siempre* Tiene que ser alfanumerica\n",
        "*valor: cualquier tipo de dato\n",
        "\n",
        "Los Diccionarios **no** tiene indexación"
      ],
      "metadata": {
        "id": "3s6CFLK9ds09"
      }
    },
    {
      "cell_type": "code",
      "source": [
        "liga_justicia={\"superheroes\":[\"Batman\",\"superman\",\"wonderwoman\"],\n",
        "               \"indetidades\":[\"Bruce Wayne\",\"clark Kent\",\"Diana Prince\"]}\n"
      ],
      "metadata": {
        "id": "ErQfYhMvd7kV"
      },
      "execution_count": 20,
      "outputs": []
    },
    {
      "cell_type": "code",
      "source": [
        "type(liga_justicia)"
      ],
      "metadata": {
        "colab": {
          "base_uri": "https://localhost:8080/"
        },
        "id": "Y4kIp4NUeM0c",
        "outputId": "71d81eaa-2e57-4d32-b25f-9e43b050dc64"
      },
      "execution_count": 19,
      "outputs": [
        {
          "output_type": "execute_result",
          "data": {
            "text/plain": [
              "dict"
            ]
          },
          "metadata": {},
          "execution_count": 19
        }
      ]
    },
    {
      "cell_type": "code",
      "source": [
        "liga_justicia"
      ],
      "metadata": {
        "colab": {
          "base_uri": "https://localhost:8080/"
        },
        "id": "WAg_wGziePb9",
        "outputId": "7661a35e-757b-4ac7-c42f-cba0af62d275"
      },
      "execution_count": 17,
      "outputs": [
        {
          "output_type": "execute_result",
          "data": {
            "text/plain": [
              "{'superheroes': ['Batman', 'superman', 'wonderwoman'],\n",
              " 'indetidades': ['Bruce Wayne', 'clark Kent', 'Diana Prince']}"
            ]
          },
          "metadata": {},
          "execution_count": 17
        }
      ]
    },
    {
      "cell_type": "code",
      "source": [
        "liga_justicia[\"superheroes\"]\n"
      ],
      "metadata": {
        "colab": {
          "base_uri": "https://localhost:8080/"
        },
        "id": "baycukl9eRld",
        "outputId": "8d1aa595-42b0-4969-ceb3-e5d12c05325b"
      },
      "execution_count": 18,
      "outputs": [
        {
          "output_type": "execute_result",
          "data": {
            "text/plain": [
              "['Batman', 'superman', 'wonderwoman']"
            ]
          },
          "metadata": {},
          "execution_count": 18
        }
      ]
    },
    {
      "cell_type": "code",
      "source": [
        "liga_justicia[\"identidades\"][2]"
      ],
      "metadata": {
        "colab": {
          "base_uri": "https://localhost:8080/",
          "height": 141
        },
        "id": "LkLqHE6_t6us",
        "outputId": "28d545ce-6fa0-4609-fcd0-7d956c6f3a8b"
      },
      "execution_count": 25,
      "outputs": [
        {
          "output_type": "error",
          "ename": "KeyError",
          "evalue": "'identidades'",
          "traceback": [
            "\u001b[0;31m---------------------------------------------------------------------------\u001b[0m",
            "\u001b[0;31mKeyError\u001b[0m                                  Traceback (most recent call last)",
            "\u001b[0;32m/tmp/ipython-input-3407241201.py\u001b[0m in \u001b[0;36m<cell line: 0>\u001b[0;34m()\u001b[0m\n\u001b[0;32m----> 1\u001b[0;31m \u001b[0mliga_justicia\u001b[0m\u001b[0;34m[\u001b[0m\u001b[0;34m\"identidades\"\u001b[0m\u001b[0;34m]\u001b[0m\u001b[0;34m[\u001b[0m\u001b[0;36m2\u001b[0m\u001b[0;34m]\u001b[0m\u001b[0;34m\u001b[0m\u001b[0;34m\u001b[0m\u001b[0m\n\u001b[0m",
            "\u001b[0;31mKeyError\u001b[0m: 'identidades'"
          ]
        }
      ]
    },
    {
      "cell_type": "markdown",
      "source": [
        "'Diana Price'\n",
        "Funcion clear: El clear método elimina todos los elementos de una lista.\n",
        "Sintaxis:\n",
        "\n",
        "diccionario.clear()"
      ],
      "metadata": {
        "id": "mxC_CVp3t-kh"
      }
    },
    {
      "cell_type": "code",
      "source": [
        "liga_justicia.clear()\n",
        "liga_justicia"
      ],
      "metadata": {
        "colab": {
          "base_uri": "https://localhost:8080/"
        },
        "id": "lSNWfp9muK0M",
        "outputId": "9eeb85b0-e5cb-432d-d921-cb4e29c3f406"
      },
      "execution_count": 23,
      "outputs": [
        {
          "output_type": "execute_result",
          "data": {
            "text/plain": [
              "{}"
            ]
          },
          "metadata": {},
          "execution_count": 23
        }
      ]
    },
    {
      "cell_type": "markdown",
      "source": [
        "Función copy: El copy método devuelve una copia de la lista especificada. Sintáxis:\n",
        "diccionario.copy()"
      ],
      "metadata": {
        "id": "NfVEuuRzuNEb"
      }
    },
    {
      "cell_type": "code",
      "source": [
        "justicia_joven={}\n",
        "justicia_joven=liga_justicia.copy()\n",
        "justicia_joven"
      ],
      "metadata": {
        "colab": {
          "base_uri": "https://localhost:8080/"
        },
        "id": "Lera9uwYuPmk",
        "outputId": "1fda1cd2-6427-4447-83e4-68f2b1283227"
      },
      "execution_count": 22,
      "outputs": [
        {
          "output_type": "execute_result",
          "data": {
            "text/plain": [
              "{'superheroes': ['Batman', 'superman', 'wonderwoman'],\n",
              " 'indetidades': ['Bruce Wayne', 'clark Kent', 'Diana Prince']}"
            ]
          },
          "metadata": {},
          "execution_count": 22
        }
      ]
    },
    {
      "cell_type": "code",
      "source": [
        "liga_justicia.fromkeys([\"superheroes\",\"identidades\"],\"DC\")"
      ],
      "metadata": {
        "colab": {
          "base_uri": "https://localhost:8080/"
        },
        "id": "InHQGozfuSjD",
        "outputId": "58a4b3de-f398-422f-f92c-a4bec8cc4a4c"
      },
      "execution_count": 27,
      "outputs": [
        {
          "output_type": "execute_result",
          "data": {
            "text/plain": [
              "{'superheroes': 'DC', 'identidades': 'DC'}"
            ]
          },
          "metadata": {},
          "execution_count": 27
        }
      ]
    },
    {
      "cell_type": "code",
      "source": [
        "liga_justicia"
      ],
      "metadata": {
        "colab": {
          "base_uri": "https://localhost:8080/"
        },
        "id": "fNS7RoEPuaTq",
        "outputId": "6126ebb3-517b-4408-804b-5da1f16aef64"
      },
      "execution_count": 28,
      "outputs": [
        {
          "output_type": "execute_result",
          "data": {
            "text/plain": [
              "{}"
            ]
          },
          "metadata": {},
          "execution_count": 28
        }
      ]
    },
    {
      "cell_type": "code",
      "source": [
        "DC=[\"Batman\",\"Superman\",\"WonderWoman\"]\n",
        "liga=dict.fromkeys(DC)"
      ],
      "metadata": {
        "id": "MpOznfUtucO6"
      },
      "execution_count": 30,
      "outputs": []
    },
    {
      "cell_type": "code",
      "source": [
        "liga"
      ],
      "metadata": {
        "colab": {
          "base_uri": "https://localhost:8080/"
        },
        "id": "Rb5351T1ud7z",
        "outputId": "182af134-f733-4573-f277-98e64d61521d"
      },
      "execution_count": 31,
      "outputs": [
        {
          "output_type": "execute_result",
          "data": {
            "text/plain": [
              "{'Batman': None, 'Superman': None, 'WonderWoman': None}"
            ]
          },
          "metadata": {},
          "execution_count": 31
        }
      ]
    },
    {
      "cell_type": "code",
      "source": [
        "liga_justicia.get(\"identidades\")"
      ],
      "metadata": {
        "id": "vPCKOwPmuiIL"
      },
      "execution_count": 32,
      "outputs": []
    },
    {
      "cell_type": "code",
      "source": [
        "liga_justicia={\"superhéroe\":[\"Batman\",\"Superman\",\"WonderWoman\"], \"identidades\":[\"Bruce Wayne\",\"Clark Kent\",\"Diana Price\"]}\n",
        "for superhéroe, identidades in liga_justicia.items():\n",
        "    print(f\"La clave es: {superhéroe}, y el valor es: {identidades}\")\n",
        ""
      ],
      "metadata": {
        "colab": {
          "base_uri": "https://localhost:8080/"
        },
        "id": "JVyFNIC-ukOz",
        "outputId": "b00a6f42-1252-47ec-8b80-1ac787036501"
      },
      "execution_count": 33,
      "outputs": [
        {
          "output_type": "stream",
          "name": "stdout",
          "text": [
            "La clave es: superhéroe, y el valor es: ['Batman', 'Superman', 'WonderWoman']\n",
            "La clave es: identidades, y el valor es: ['Bruce Wayne', 'Clark Kent', 'Diana Price']\n"
          ]
        }
      ]
    },
    {
      "cell_type": "markdown",
      "source": [
        "keys(): es un método de los diccionarios que devuelve un objeto de vista que contiene todas las claves del diccionario.\n",
        "diccionario.keys():"
      ],
      "metadata": {
        "id": "pHmtgu_1unfT"
      }
    },
    {
      "cell_type": "code",
      "source": [
        "liga_justicia={\"superhéroe\":[\"Batman\",\"Superman\",\"WonderWoman\"], \"identidades\":[\"Bruce Wayne\",\"Clark Kent\",\"Diana Price\"]}\n",
        "claves= liga_justicia.keys()\n",
        "print(claves)\n",
        ""
      ],
      "metadata": {
        "colab": {
          "base_uri": "https://localhost:8080/"
        },
        "id": "KKEKKwr-upnD",
        "outputId": "1df4277a-9da9-4a3a-b038-b311d1bc34fd"
      },
      "execution_count": 34,
      "outputs": [
        {
          "output_type": "stream",
          "name": "stdout",
          "text": [
            "dict_keys(['superhéroe', 'identidades'])\n"
          ]
        }
      ]
    },
    {
      "cell_type": "markdown",
      "source": [
        "pop(): es un método que se usa en listas y diccionarios para eliminar y devolver un elemento, ya sea por su índice (en listas) o por su clave (en diccionarios).\n",
        "diccionario.pop():"
      ],
      "metadata": {
        "id": "rHVc65l3usC0"
      }
    },
    {
      "cell_type": "code",
      "source": [
        "liga_justicia={\"superhéroe\":[\"Batman\",\"Superman\",\"WonderWoman\"], \"identidades\":[\"Bruce Wayne\",\"Clark Kent\",\"Diana Price\"]}\n",
        "liga_justicia\n",
        ""
      ],
      "metadata": {
        "colab": {
          "base_uri": "https://localhost:8080/"
        },
        "id": "OAmzQrBdutgc",
        "outputId": "f042e7de-a492-4c13-9709-56f49483365f"
      },
      "execution_count": 35,
      "outputs": [
        {
          "output_type": "execute_result",
          "data": {
            "text/plain": [
              "{'superhéroe': ['Batman', 'Superman', 'WonderWoman'],\n",
              " 'identidades': ['Bruce Wayne', 'Clark Kent', 'Diana Price']}"
            ]
          },
          "metadata": {},
          "execution_count": 35
        }
      ]
    },
    {
      "cell_type": "code",
      "source": [
        "liga_justicia.pop(\"superhéroe\")"
      ],
      "metadata": {
        "colab": {
          "base_uri": "https://localhost:8080/"
        },
        "id": "-P2pdVaGuwS8",
        "outputId": "6dea8750-403d-4f8f-dd00-850102d54638"
      },
      "execution_count": 36,
      "outputs": [
        {
          "output_type": "execute_result",
          "data": {
            "text/plain": [
              "['Batman', 'Superman', 'WonderWoman']"
            ]
          },
          "metadata": {},
          "execution_count": 36
        }
      ]
    },
    {
      "cell_type": "code",
      "source": [
        "liga_justicia"
      ],
      "metadata": {
        "colab": {
          "base_uri": "https://localhost:8080/"
        },
        "id": "Qld8qG_huxxb",
        "outputId": "d4470f3f-0cd6-4893-cbc3-d152dc6302a2"
      },
      "execution_count": 37,
      "outputs": [
        {
          "output_type": "execute_result",
          "data": {
            "text/plain": [
              "{'identidades': ['Bruce Wayne', 'Clark Kent', 'Diana Price']}"
            ]
          },
          "metadata": {},
          "execution_count": 37
        }
      ]
    },
    {
      "cell_type": "code",
      "source": [
        "liga_justicia={\"superhéroe\":[\"Batman\",\"Superman\",\"WonderWoman\"], \"identidades\":[\"Bruce Wayne\",\"Clark Kent\",\"Diana Price\"]}\n",
        "liga_justicia_eliminada = liga_justicia.pop(superhéroe)\n",
        "print(liga_justicia)\n",
        "print(liga_justicia_eliminada)"
      ],
      "metadata": {
        "colab": {
          "base_uri": "https://localhost:8080/"
        },
        "id": "fppGXWTTu1Eq",
        "outputId": "56cf0310-0036-405b-e856-0cf8b07eaf70"
      },
      "execution_count": 38,
      "outputs": [
        {
          "output_type": "stream",
          "name": "stdout",
          "text": [
            "{'superhéroe': ['Batman', 'Superman', 'WonderWoman']}\n",
            "['Bruce Wayne', 'Clark Kent', 'Diana Price']\n"
          ]
        }
      ]
    },
    {
      "cell_type": "markdown",
      "source": [
        "popitem(): método elimina el último elemento insertado en el diccionario. NOTA: En versiones anteriores a la 3.7, el popitem()método eliminaba un elemento aleatorio.\n",
        "diccionario.popitem():"
      ],
      "metadata": {
        "id": "aAroH-8xu3Rb"
      }
    },
    {
      "cell_type": "code",
      "source": [
        "\n",
        "liga_justicia={\"superhéroe\":[\"Batman\",\"Superman\",\"WonderWoman\"], \"identidades\":[\"Bruce Wayne\",\"Clark Kent\",\"Diana Price\"]}\n",
        "liga_justicia.popitem()\n",
        "print(liga_justicia)"
      ],
      "metadata": {
        "colab": {
          "base_uri": "https://localhost:8080/"
        },
        "id": "H84JxV9Cu4kz",
        "outputId": "2bec60d2-1c57-407d-b49e-84782ff5c4e7"
      },
      "execution_count": 39,
      "outputs": [
        {
          "output_type": "stream",
          "name": "stdout",
          "text": [
            "{'superhéroe': ['Batman', 'Superman', 'WonderWoman']}\n"
          ]
        }
      ]
    },
    {
      "cell_type": "markdown",
      "source": [
        "Devuelve el valor de una clave si existe; si no, la crea con un valor por defecto y lo devuelve."
      ],
      "metadata": {
        "id": "HGvK-NC-u7Q7"
      }
    },
    {
      "cell_type": "code",
      "source": [
        "liga_justicia.setdefault(\"superheroes\")\n",
        ""
      ],
      "metadata": {
        "id": "OTASQP8Zu85K"
      },
      "execution_count": 40,
      "outputs": []
    },
    {
      "cell_type": "code",
      "source": [
        "liga_justicia.setdefault(\"superheroes\")\n",
        ""
      ],
      "metadata": {
        "id": "Mo72Wahnu_wc"
      },
      "execution_count": 41,
      "outputs": []
    },
    {
      "cell_type": "code",
      "source": [
        "liga_justicia.setdefault(\"Villanos\")\n",
        "print(liga_justicia)"
      ],
      "metadata": {
        "colab": {
          "base_uri": "https://localhost:8080/"
        },
        "id": "WJclqD7JvCnr",
        "outputId": "825fa180-2d04-49e5-dffc-a7884d8477d2"
      },
      "execution_count": 42,
      "outputs": [
        {
          "output_type": "stream",
          "name": "stdout",
          "text": [
            "{'superhéroe': ['Batman', 'Superman', 'WonderWoman'], 'superheroes': None, 'Villanos': None}\n"
          ]
        }
      ]
    },
    {
      "cell_type": "code",
      "source": [
        "liga_justicia.update(Villanos=[\"Guasón\",\"Doble cara\"])"
      ],
      "metadata": {
        "id": "nylpvSc7vE3q"
      },
      "execution_count": 43,
      "outputs": []
    },
    {
      "cell_type": "code",
      "source": [
        "liga_justicia"
      ],
      "metadata": {
        "colab": {
          "base_uri": "https://localhost:8080/"
        },
        "id": "d79xPnC8vHZC",
        "outputId": "ee691c5d-3db0-4cec-e2ef-35da5628433f"
      },
      "execution_count": 44,
      "outputs": [
        {
          "output_type": "execute_result",
          "data": {
            "text/plain": [
              "{'superhéroe': ['Batman', 'Superman', 'WonderWoman'],\n",
              " 'superheroes': None,\n",
              " 'Villanos': ['Guasón', 'Doble cara']}"
            ]
          },
          "metadata": {},
          "execution_count": 44
        }
      ]
    },
    {
      "cell_type": "code",
      "source": [
        "print(list(liga_justicia.values()))"
      ],
      "metadata": {
        "colab": {
          "base_uri": "https://localhost:8080/"
        },
        "id": "XDApC9UkvJQq",
        "outputId": "ce071371-fe86-4394-b4ed-14f74a1a3830"
      },
      "execution_count": 45,
      "outputs": [
        {
          "output_type": "stream",
          "name": "stdout",
          "text": [
            "[['Batman', 'Superman', 'WonderWoman'], None, ['Guasón', 'Doble cara']]\n"
          ]
        }
      ]
    }
  ]
}
