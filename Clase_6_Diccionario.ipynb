{
  "nbformat": 4,
  "nbformat_minor": 0,
  "metadata": {
    "colab": {
      "provenance": [],
      "include_colab_link": true
    },
    "kernelspec": {
      "name": "python3",
      "display_name": "Python 3"
    },
    "language_info": {
      "name": "python"
    }
  },
  "cells": [
    {
      "cell_type": "markdown",
      "metadata": {
        "id": "view-in-github",
        "colab_type": "text"
      },
      "source": [
        "<a href=\"https://colab.research.google.com/github/HarsolMiranda/PROGCOM-B/blob/main/Clase_6_Diccionario.ipynb\" target=\"_parent\"><img src=\"https://colab.research.google.com/assets/colab-badge.svg\" alt=\"Open In Colab\"/></a>"
      ]
    },
    {
      "cell_type": "markdown",
      "source": [
        "#Diccionarios\n",
        "estrcutra de datos que alamacena valores\n",
        "\n",
        "Sintaxis\n",
        "\n",
        "\n",
        "\n",
        "nombre_diccionario={\"llave\":valor}\n",
        "\n",
        "*llave: **siempre* Tiene que ser alfanumerica\n",
        "*valor: cualquier tipo de dato\n",
        "\n",
        "Los Diccionarios **no** tiene indexación"
      ],
      "metadata": {
        "id": "3s6CFLK9ds09"
      }
    },
    {
      "cell_type": "code",
      "source": [
        "liga_justicia={\"superheroes\":[\"Batman\",\"superman\",\"wonderwoman\"],\n",
        "               \"indetidades\":[\"Bruce Wayne\",\"clark Kent\",\"Diana Prince\"]}\n"
      ],
      "metadata": {
        "id": "ErQfYhMvd7kV"
      },
      "execution_count": null,
      "outputs": []
    },
    {
      "cell_type": "code",
      "source": [
        "type(liga_justicia)"
      ],
      "metadata": {
        "colab": {
          "base_uri": "https://localhost:8080/"
        },
        "id": "Y4kIp4NUeM0c",
        "outputId": "71d81eaa-2e57-4d32-b25f-9e43b050dc64"
      },
      "execution_count": null,
      "outputs": [
        {
          "output_type": "execute_result",
          "data": {
            "text/plain": [
              "dict"
            ]
          },
          "metadata": {},
          "execution_count": 19
        }
      ]
    },
    {
      "cell_type": "code",
      "source": [
        "liga_justicia"
      ],
      "metadata": {
        "colab": {
          "base_uri": "https://localhost:8080/"
        },
        "id": "WAg_wGziePb9",
        "outputId": "7661a35e-757b-4ac7-c42f-cba0af62d275"
      },
      "execution_count": null,
      "outputs": [
        {
          "output_type": "execute_result",
          "data": {
            "text/plain": [
              "{'superheroes': ['Batman', 'superman', 'wonderwoman'],\n",
              " 'indetidades': ['Bruce Wayne', 'clark Kent', 'Diana Prince']}"
            ]
          },
          "metadata": {},
          "execution_count": 17
        }
      ]
    },
    {
      "cell_type": "code",
      "source": [
        "liga_justicia[\"superheroes\"]\n"
      ],
      "metadata": {
        "colab": {
          "base_uri": "https://localhost:8080/"
        },
        "id": "baycukl9eRld",
        "outputId": "8d1aa595-42b0-4969-ceb3-e5d12c05325b"
      },
      "execution_count": null,
      "outputs": [
        {
          "output_type": "execute_result",
          "data": {
            "text/plain": [
              "['Batman', 'superman', 'wonderwoman']"
            ]
          },
          "metadata": {},
          "execution_count": 18
        }
      ]
    },
    {
      "cell_type": "code",
      "source": [
        "liga_justicia={\"superheroes\":[\"Batman\",\"superman\",\"wonderwoman\"],\n",
        "               \"identidades\":[\"Bruce Wayne\",\"clark Kent\",\"Diana Prince\"]}\n",
        "print(liga_justicia[\"identidades\"][2])"
      ],
      "metadata": {
        "colab": {
          "base_uri": "https://localhost:8080/"
        },
        "id": "LkLqHE6_t6us",
        "outputId": "b4aed60b-4511-4ab2-d2c4-4c2d23a5baa3"
      },
      "execution_count": 2,
      "outputs": [
        {
          "output_type": "stream",
          "name": "stdout",
          "text": [
            "Diana Prince\n"
          ]
        }
      ]
    },
    {
      "cell_type": "markdown",
      "source": [
        "'Diana Price'\n",
        "Funcion clear: El clear método elimina todos los elementos de una lista.\n",
        "Sintaxis:\n",
        "\n",
        "diccionario.clear()"
      ],
      "metadata": {
        "id": "mxC_CVp3t-kh"
      }
    },
    {
      "cell_type": "code",
      "source": [
        "liga_justicia.clear()\n",
        "liga_justicia"
      ],
      "metadata": {
        "colab": {
          "base_uri": "https://localhost:8080/"
        },
        "id": "lSNWfp9muK0M",
        "outputId": "9eeb85b0-e5cb-432d-d921-cb4e29c3f406"
      },
      "execution_count": null,
      "outputs": [
        {
          "output_type": "execute_result",
          "data": {
            "text/plain": [
              "{}"
            ]
          },
          "metadata": {},
          "execution_count": 23
        }
      ]
    },
    {
      "cell_type": "markdown",
      "source": [
        "Función copy: El copy método devuelve una copia de la lista especificada. Sintáxis:\n",
        "diccionario.copy()"
      ],
      "metadata": {
        "id": "NfVEuuRzuNEb"
      }
    },
    {
      "cell_type": "code",
      "source": [
        "justicia_joven={}\n",
        "justicia_joven=liga_justicia.copy()\n",
        "justicia_joven"
      ],
      "metadata": {
        "colab": {
          "base_uri": "https://localhost:8080/"
        },
        "id": "Lera9uwYuPmk",
        "outputId": "1fda1cd2-6427-4447-83e4-68f2b1283227"
      },
      "execution_count": null,
      "outputs": [
        {
          "output_type": "execute_result",
          "data": {
            "text/plain": [
              "{'superheroes': ['Batman', 'superman', 'wonderwoman'],\n",
              " 'indetidades': ['Bruce Wayne', 'clark Kent', 'Diana Prince']}"
            ]
          },
          "metadata": {},
          "execution_count": 22
        }
      ]
    },
    {
      "cell_type": "code",
      "source": [
        "liga_justicia.fromkeys([\"superheroes\",\"identidades\"],\"DC\")"
      ],
      "metadata": {
        "colab": {
          "base_uri": "https://localhost:8080/"
        },
        "id": "InHQGozfuSjD",
        "outputId": "58a4b3de-f398-422f-f92c-a4bec8cc4a4c"
      },
      "execution_count": null,
      "outputs": [
        {
          "output_type": "execute_result",
          "data": {
            "text/plain": [
              "{'superheroes': 'DC', 'identidades': 'DC'}"
            ]
          },
          "metadata": {},
          "execution_count": 27
        }
      ]
    },
    {
      "cell_type": "code",
      "source": [
        "liga_justicia"
      ],
      "metadata": {
        "colab": {
          "base_uri": "https://localhost:8080/"
        },
        "id": "fNS7RoEPuaTq",
        "outputId": "6126ebb3-517b-4408-804b-5da1f16aef64"
      },
      "execution_count": null,
      "outputs": [
        {
          "output_type": "execute_result",
          "data": {
            "text/plain": [
              "{}"
            ]
          },
          "metadata": {},
          "execution_count": 28
        }
      ]
    },
    {
      "cell_type": "code",
      "source": [
        "DC=[\"Batman\",\"Superman\",\"WonderWoman\"]\n",
        "liga=dict.fromkeys(DC)"
      ],
      "metadata": {
        "id": "MpOznfUtucO6"
      },
      "execution_count": null,
      "outputs": []
    },
    {
      "cell_type": "code",
      "source": [
        "liga"
      ],
      "metadata": {
        "colab": {
          "base_uri": "https://localhost:8080/"
        },
        "id": "Rb5351T1ud7z",
        "outputId": "182af134-f733-4573-f277-98e64d61521d"
      },
      "execution_count": null,
      "outputs": [
        {
          "output_type": "execute_result",
          "data": {
            "text/plain": [
              "{'Batman': None, 'Superman': None, 'WonderWoman': None}"
            ]
          },
          "metadata": {},
          "execution_count": 31
        }
      ]
    },
    {
      "cell_type": "code",
      "source": [
        "liga_justicia.get(\"identidades\")"
      ],
      "metadata": {
        "id": "vPCKOwPmuiIL"
      },
      "execution_count": null,
      "outputs": []
    },
    {
      "cell_type": "code",
      "source": [
        "liga_justicia={\"superhéroe\":[\"Batman\",\"Superman\",\"WonderWoman\"], \"identidades\":[\"Bruce Wayne\",\"Clark Kent\",\"Diana Price\"]}\n",
        "for superhéroe, identidades in liga_justicia.items():\n",
        "    print(f\"La clave es: {superhéroe}, y el valor es: {identidades}\")\n"
      ],
      "metadata": {
        "colab": {
          "base_uri": "https://localhost:8080/"
        },
        "id": "JVyFNIC-ukOz",
        "outputId": "b00a6f42-1252-47ec-8b80-1ac787036501"
      },
      "execution_count": null,
      "outputs": [
        {
          "output_type": "stream",
          "name": "stdout",
          "text": [
            "La clave es: superhéroe, y el valor es: ['Batman', 'Superman', 'WonderWoman']\n",
            "La clave es: identidades, y el valor es: ['Bruce Wayne', 'Clark Kent', 'Diana Price']\n"
          ]
        }
      ]
    },
    {
      "cell_type": "markdown",
      "source": [
        "keys(): es un método de los diccionarios que devuelve un objeto de vista que contiene todas las claves del diccionario.\n",
        "diccionario.keys():"
      ],
      "metadata": {
        "id": "pHmtgu_1unfT"
      }
    },
    {
      "cell_type": "code",
      "source": [
        "liga_justicia={\"superhéroe\":[\"Batman\",\"Superman\",\"WonderWoman\"], \"identidades\":[\"Bruce Wayne\",\"Clark Kent\",\"Diana Price\"]}\n",
        "claves= liga_justicia.keys()\n",
        "print(claves)\n"
      ],
      "metadata": {
        "colab": {
          "base_uri": "https://localhost:8080/"
        },
        "id": "KKEKKwr-upnD",
        "outputId": "1df4277a-9da9-4a3a-b038-b311d1bc34fd"
      },
      "execution_count": null,
      "outputs": [
        {
          "output_type": "stream",
          "name": "stdout",
          "text": [
            "dict_keys(['superhéroe', 'identidades'])\n"
          ]
        }
      ]
    },
    {
      "cell_type": "markdown",
      "source": [
        "pop(): es un método que se usa en listas y diccionarios para eliminar y devolver un elemento, ya sea por su índice (en listas) o por su clave (en diccionarios).\n",
        "diccionario.pop():"
      ],
      "metadata": {
        "id": "rHVc65l3usC0"
      }
    },
    {
      "cell_type": "code",
      "source": [
        "liga_justicia={\"superhéroe\":[\"Batman\",\"Superman\",\"WonderWoman\"], \"identidades\":[\"Bruce Wayne\",\"Clark Kent\",\"Diana Price\"]}\n",
        "liga_justicia\n"
      ],
      "metadata": {
        "colab": {
          "base_uri": "https://localhost:8080/"
        },
        "id": "OAmzQrBdutgc",
        "outputId": "f042e7de-a492-4c13-9709-56f49483365f"
      },
      "execution_count": null,
      "outputs": [
        {
          "output_type": "execute_result",
          "data": {
            "text/plain": [
              "{'superhéroe': ['Batman', 'Superman', 'WonderWoman'],\n",
              " 'identidades': ['Bruce Wayne', 'Clark Kent', 'Diana Price']}"
            ]
          },
          "metadata": {},
          "execution_count": 35
        }
      ]
    },
    {
      "cell_type": "code",
      "source": [
        "liga_justicia.pop(\"superhéroe\")"
      ],
      "metadata": {
        "colab": {
          "base_uri": "https://localhost:8080/"
        },
        "id": "-P2pdVaGuwS8",
        "outputId": "6dea8750-403d-4f8f-dd00-850102d54638"
      },
      "execution_count": null,
      "outputs": [
        {
          "output_type": "execute_result",
          "data": {
            "text/plain": [
              "['Batman', 'Superman', 'WonderWoman']"
            ]
          },
          "metadata": {},
          "execution_count": 36
        }
      ]
    },
    {
      "cell_type": "code",
      "source": [
        "liga_justicia"
      ],
      "metadata": {
        "colab": {
          "base_uri": "https://localhost:8080/"
        },
        "id": "Qld8qG_huxxb",
        "outputId": "d4470f3f-0cd6-4893-cbc3-d152dc6302a2"
      },
      "execution_count": null,
      "outputs": [
        {
          "output_type": "execute_result",
          "data": {
            "text/plain": [
              "{'identidades': ['Bruce Wayne', 'Clark Kent', 'Diana Price']}"
            ]
          },
          "metadata": {},
          "execution_count": 37
        }
      ]
    },
    {
      "cell_type": "code",
      "source": [
        "liga_justicia={\"superhéroe\":[\"Batman\",\"Superman\",\"WonderWoman\"], \"identidades\":[\"Bruce Wayne\",\"Clark Kent\",\"Diana Price\"]}\n",
        "liga_justicia_eliminada = liga_justicia.pop(superhéroe)\n",
        "print(liga_justicia)\n",
        "print(liga_justicia_eliminada)"
      ],
      "metadata": {
        "colab": {
          "base_uri": "https://localhost:8080/"
        },
        "id": "fppGXWTTu1Eq",
        "outputId": "56cf0310-0036-405b-e856-0cf8b07eaf70"
      },
      "execution_count": null,
      "outputs": [
        {
          "output_type": "stream",
          "name": "stdout",
          "text": [
            "{'superhéroe': ['Batman', 'Superman', 'WonderWoman']}\n",
            "['Bruce Wayne', 'Clark Kent', 'Diana Price']\n"
          ]
        }
      ]
    },
    {
      "cell_type": "markdown",
      "source": [
        "popitem(): método elimina el último elemento insertado en el diccionario. NOTA: En versiones anteriores a la 3.7, el popitem()método eliminaba un elemento aleatorio.\n",
        "diccionario.popitem():"
      ],
      "metadata": {
        "id": "aAroH-8xu3Rb"
      }
    },
    {
      "cell_type": "code",
      "source": [
        "\n",
        "liga_justicia={\"superhéroe\":[\"Batman\",\"Superman\",\"WonderWoman\"], \"identidades\":[\"Bruce Wayne\",\"Clark Kent\",\"Diana Price\"]}\n",
        "liga_justicia.popitem()\n",
        "print(liga_justicia)"
      ],
      "metadata": {
        "colab": {
          "base_uri": "https://localhost:8080/"
        },
        "id": "H84JxV9Cu4kz",
        "outputId": "2bec60d2-1c57-407d-b49e-84782ff5c4e7"
      },
      "execution_count": null,
      "outputs": [
        {
          "output_type": "stream",
          "name": "stdout",
          "text": [
            "{'superhéroe': ['Batman', 'Superman', 'WonderWoman']}\n"
          ]
        }
      ]
    },
    {
      "cell_type": "markdown",
      "source": [
        "Devuelve el valor de una clave si existe; si no, la crea con un valor por defecto y lo devuelve."
      ],
      "metadata": {
        "id": "HGvK-NC-u7Q7"
      }
    },
    {
      "cell_type": "code",
      "source": [
        "liga_justicia.setdefault(\"superheroes\")\n"
      ],
      "metadata": {
        "id": "OTASQP8Zu85K"
      },
      "execution_count": null,
      "outputs": []
    },
    {
      "cell_type": "code",
      "source": [
        "liga_justicia.setdefault(\"superheroes\")\n"
      ],
      "metadata": {
        "id": "Mo72Wahnu_wc"
      },
      "execution_count": null,
      "outputs": []
    },
    {
      "cell_type": "code",
      "source": [
        "liga_justicia.setdefault(\"Villanos\")\n",
        "print(liga_justicia)"
      ],
      "metadata": {
        "colab": {
          "base_uri": "https://localhost:8080/"
        },
        "id": "WJclqD7JvCnr",
        "outputId": "825fa180-2d04-49e5-dffc-a7884d8477d2"
      },
      "execution_count": null,
      "outputs": [
        {
          "output_type": "stream",
          "name": "stdout",
          "text": [
            "{'superhéroe': ['Batman', 'Superman', 'WonderWoman'], 'superheroes': None, 'Villanos': None}\n"
          ]
        }
      ]
    },
    {
      "cell_type": "code",
      "source": [
        "liga_justicia.update(Villanos=[\"Guasón\",\"Doble cara\"])"
      ],
      "metadata": {
        "id": "nylpvSc7vE3q"
      },
      "execution_count": null,
      "outputs": []
    },
    {
      "cell_type": "code",
      "source": [
        "liga_justicia"
      ],
      "metadata": {
        "colab": {
          "base_uri": "https://localhost:8080/"
        },
        "id": "d79xPnC8vHZC",
        "outputId": "ee691c5d-3db0-4cec-e2ef-35da5628433f"
      },
      "execution_count": null,
      "outputs": [
        {
          "output_type": "execute_result",
          "data": {
            "text/plain": [
              "{'superhéroe': ['Batman', 'Superman', 'WonderWoman'],\n",
              " 'superheroes': None,\n",
              " 'Villanos': ['Guasón', 'Doble cara']}"
            ]
          },
          "metadata": {},
          "execution_count": 44
        }
      ]
    },
    {
      "cell_type": "code",
      "source": [
        "print(list(liga_justicia.values()))"
      ],
      "metadata": {
        "colab": {
          "base_uri": "https://localhost:8080/"
        },
        "id": "XDApC9UkvJQq",
        "outputId": "ce071371-fe86-4394-b4ed-14f74a1a3830"
      },
      "execution_count": null,
      "outputs": [
        {
          "output_type": "stream",
          "name": "stdout",
          "text": [
            "[['Batman', 'Superman', 'WonderWoman'], None, ['Guasón', 'Doble cara']]\n"
          ]
        }
      ]
    },
    {
      "cell_type": "markdown",
      "source": [
        "###Funciones y Tipos de Datos"
      ],
      "metadata": {
        "id": "ds5OwpsK6jC8"
      }
    },
    {
      "cell_type": "markdown",
      "source": [
        "##1\tCrea una función que reciba un número y retorne su cuadrado."
      ],
      "metadata": {
        "id": "iHMIAyRg6mnq"
      }
    },
    {
      "cell_type": "code",
      "source": [
        "numeros = [(int(input( \"Escribe el numero \" )))]\n",
        "cuadrados = [x**2 for x in numeros]\n",
        "print(cuadrados)"
      ],
      "metadata": {
        "colab": {
          "base_uri": "https://localhost:8080/"
        },
        "id": "WSqFNi6C6qeC",
        "outputId": "dfde39fd-7e3c-42d1-d36c-5846ac15289e"
      },
      "execution_count": 31,
      "outputs": [
        {
          "output_type": "stream",
          "name": "stdout",
          "text": [
            "Escribe el numero 50\n",
            "[2500]\n"
          ]
        }
      ]
    },
    {
      "cell_type": "markdown",
      "source": [
        "###10\tCrea una función que reciba una lista de nombres y retorne cuántos nombres comienzan con vocal"
      ],
      "metadata": {
        "id": "JAp71fzp9oB_"
      }
    },
    {
      "cell_type": "code",
      "source": [
        "def varable1(nombres):\n",
        "    vocales = {'a', 'e', 'i', 'o', 'u'}\n",
        "    return sum(1 for nombre in nombres if nombre and nombre[0].lower() in vocales)\n"
      ],
      "metadata": {
        "id": "2gWyXEw99p-J"
      },
      "execution_count": 47,
      "outputs": []
    },
    {
      "cell_type": "code",
      "source": [
        "lista = [\"Juliana\", \"Daniel\", \"Mile\", \"Ana\", \"Eracles\", \"Wendy\", \"Urano\", \"Beatriz\"]\n",
        "resultado = varable1(lista)\n",
        "print(f\"Nombres que comienzan con vocal: {resultado}\")\n"
      ],
      "metadata": {
        "colab": {
          "base_uri": "https://localhost:8080/"
        },
        "id": "xjCkpS3f963q",
        "outputId": "0c196aa5-7fda-42b4-8867-d31ca4a4874b"
      },
      "execution_count": 48,
      "outputs": [
        {
          "output_type": "stream",
          "name": "stdout",
          "text": [
            "Nombres que comienzan con vocal: 3\n"
          ]
        }
      ]
    },
    {
      "cell_type": "markdown",
      "source": [
        "##11\tCrea una función que reciba una lista y retorne otra lista sin elementos repetidos."
      ],
      "metadata": {
        "id": "BD7tE_doCGGu"
      }
    },
    {
      "cell_type": "code",
      "source": [
        "Lista=[1,2,2,3,1,4,58,4,0]\n",
        "Lista_sin_repetidos = list(set(Lista))\n",
        "Lista_sin_repetidos"
      ],
      "metadata": {
        "colab": {
          "base_uri": "https://localhost:8080/"
        },
        "id": "cFUzqfnGFBwo",
        "outputId": "5ab91c0c-0fd5-44db-e274-95542e0bdfdf"
      },
      "execution_count": 66,
      "outputs": [
        {
          "output_type": "execute_result",
          "data": {
            "text/plain": [
              "[0, 1, 2, 3, 4, 58]"
            ]
          },
          "metadata": {},
          "execution_count": 66
        }
      ]
    },
    {
      "cell_type": "markdown",
      "source": [
        "##12\tCrea una función que reciba una lista de números y retorne solo los que son primos."
      ],
      "metadata": {
        "id": "WbmSsSi7MJQz"
      }
    },
    {
      "cell_type": "code",
      "source": [
        "def es_primo(n):\n",
        "    if n < 2:\n",
        "        return False\n",
        "    for i in range(2, int(n**0.5) + 1):\n",
        "        if n % i == 0:\n",
        "            return False\n",
        "    return True\n",
        "\n",
        "def filtrar_primos(lista):\n",
        "    return [num for num in lista if es_primo(num)]\n",
        "\n",
        "numeros = [2, 3, 4, 5, 6, 7, 8, 9, 10, 11, 13, 15, 17, 19, 20]\n",
        "primos = filtrar_primos(numeros)\n",
        "print(primos)\n"
      ],
      "metadata": {
        "colab": {
          "base_uri": "https://localhost:8080/"
        },
        "id": "6cTYR9mtNJDB",
        "outputId": "b0fc0554-2e94-4fbb-9541-557e6e38b6d2"
      },
      "execution_count": 67,
      "outputs": [
        {
          "output_type": "stream",
          "name": "stdout",
          "text": [
            "[2, 3, 5, 7, 11, 13, 17, 19]\n"
          ]
        }
      ]
    },
    {
      "cell_type": "markdown",
      "source": [
        "13\tCrea una función que reciba un diccionario con claves 'nombre' y 'edad', y retorne un mensaje con esos datos."
      ],
      "metadata": {
        "id": "_75hR2T-NOvL"
      }
    },
    {
      "cell_type": "code",
      "source": [
        "def mensaje_personal(datos):\n",
        "    nombre = datos.get('nombre', 'Desconocido')\n",
        "    edad = datos.get('edad', 'sin edad registrada')\n",
        "    return f\"Hola, {nombre}. Tienes {edad} años.\"\n",
        "persona = {'nombre': 'Mile', 'edad': 28}\n",
        "mensaje = mensaje_personal(persona)\n",
        "print(mensaje)\n"
      ],
      "metadata": {
        "colab": {
          "base_uri": "https://localhost:8080/"
        },
        "id": "Z4iBNDNsMK8n",
        "outputId": "6cbc7f43-97d9-4c21-f322-ff70694e37c9"
      },
      "execution_count": 69,
      "outputs": [
        {
          "output_type": "stream",
          "name": "stdout",
          "text": [
            "Hola, Mile. Tienes 28 años.\n"
          ]
        }
      ]
    },
    {
      "cell_type": "markdown",
      "source": [
        "14\tCrea una función que reciba un diccionario de productos (clave: nombre, valor: precio) y retorne el total."
      ],
      "metadata": {
        "id": "LvPQQ6CrNcPU"
      }
    },
    {
      "cell_type": "code",
      "source": [
        "def calcular_total(productos):\n",
        "    return sum(productos.values())\n",
        "carrito = {\n",
        "    'Pera': 3500,\n",
        "    'Pan': 2800,\n",
        "    'Salchicha': 4200,\n",
        "    'Huevos': 5000\n",
        "}\n",
        "\n",
        "total = calcular_total(carrito)\n",
        "print(f\"Total a pagar: ${total}\")\n"
      ],
      "metadata": {
        "colab": {
          "base_uri": "https://localhost:8080/"
        },
        "id": "9cortMMVNd8t",
        "outputId": "3f049b49-a49e-42cb-dbb1-4f6921eda5c0"
      },
      "execution_count": 71,
      "outputs": [
        {
          "output_type": "stream",
          "name": "stdout",
          "text": [
            "Total a pagar: $15500\n"
          ]
        }
      ]
    },
    {
      "cell_type": "markdown",
      "source": [
        "15\tCrea una función que reciba un diccionario de estudiantes (clave: nombre, valor: nota) y retorne el promedio."
      ],
      "metadata": {
        "id": "9Ck6Jn0ENpSh"
      }
    },
    {
      "cell_type": "code",
      "source": [
        "def promedio_notas(estudiantes):\n",
        "    if not estudiantes:\n",
        "        return 0\n",
        "    total = sum(estudiantes.values())\n",
        "    cantidad = len(estudiantes)\n",
        "    return total / cantidad\n",
        "notas = {\n",
        "    'Daniel': 3.5,\n",
        "    'Wendy': 3.8,\n",
        "    'Juli': 4.2,\n",
        "    'Juanito': 3.9\n",
        "}\n",
        "\n",
        "promedio = promedio_notas(notas)\n",
        "print(f\"El promedio de notas es: {promedio:.2f}\")\n"
      ],
      "metadata": {
        "colab": {
          "base_uri": "https://localhost:8080/"
        },
        "id": "nQ2a2CboNshx",
        "outputId": "8c55c2f7-9b1a-44d0-a9b2-8a59ca449326"
      },
      "execution_count": 73,
      "outputs": [
        {
          "output_type": "stream",
          "name": "stdout",
          "text": [
            "El promedio de notas es: 3.85\n"
          ]
        }
      ]
    },
    {
      "cell_type": "markdown",
      "source": [
        "16\tCrea una función que reciba un diccionario y un nombre, y retorne la nota si existe o 'no encontrado'."
      ],
      "metadata": {
        "id": "H1XYUrmZN7Bh"
      }
    },
    {
      "cell_type": "code",
      "source": [
        "def buscar_nota(estudiantes, nombre):\n",
        "    return estudiantes.get(nombre, 'no encontrado')\n",
        "notas = {\n",
        "    'Wendy': 4.5,\n",
        "    'Daniel': 3.8,\n",
        "    'Juli': 4.2\n",
        "}\n",
        "\n",
        "resultado = buscar_nota(notas, 'Wendy')\n",
        "print(resultado)\n",
        "\n",
        "resultado = buscar_nota(notas, 'Juli')\n",
        "print(resultado)\n"
      ],
      "metadata": {
        "colab": {
          "base_uri": "https://localhost:8080/"
        },
        "id": "DzLZw9rrN7rB",
        "outputId": "d94c4153-30c1-4ac1-b6f2-795a7a009c32"
      },
      "execution_count": 76,
      "outputs": [
        {
          "output_type": "stream",
          "name": "stdout",
          "text": [
            "4.5\n",
            "4.2\n"
          ]
        }
      ]
    }
  ]
}