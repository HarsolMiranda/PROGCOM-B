{
  "nbformat": 4,
  "nbformat_minor": 0,
  "metadata": {
    "colab": {
      "provenance": [],
      "authorship_tag": "ABX9TyP9pi7KTp4QL1x7GYNWWh9d",
      "include_colab_link": true
    },
    "kernelspec": {
      "name": "python3",
      "display_name": "Python 3"
    },
    "language_info": {
      "name": "python"
    }
  },
  "cells": [
    {
      "cell_type": "markdown",
      "metadata": {
        "id": "view-in-github",
        "colab_type": "text"
      },
      "source": [
        "<a href=\"https://colab.research.google.com/github/HarsolMiranda/PROGCOM-B/blob/main/Clase_5.ipynb\" target=\"_parent\"><img src=\"https://colab.research.google.com/assets/colab-badge.svg\" alt=\"Open In Colab\"/></a>"
      ]
    },
    {
      "cell_type": "markdown",
      "source": [
        "#Listas\n",
        "1. un nuevo tipo de dato\n",
        "2. es mutable\n",
        "3. Idexacion: hay un orden\n",
        "4. hay un numero finito de posiciones\n",
        "5. todas las listas se abren y cierran con [] y se paran ,.\n",
        "sintaxis\n",
        "\n",
        "\n",
        "```\n",
        "nombre_Lista[] #crear lista vacia\n",
        "flores=[\"margarita\", \"rosa\", \"Tulipan\"]\n",
        "```\n",
        "\n",
        "Listas por extension.\n",
        "\n"
      ],
      "metadata": {
        "id": "SIK587j485ZA"
      }
    },
    {
      "cell_type": "code",
      "execution_count": 13,
      "metadata": {
        "colab": {
          "base_uri": "https://localhost:8080/",
          "height": 106
        },
        "id": "nQGadkDD8p7R",
        "outputId": "0fe7124c-f6a8-4251-f3b4-e4c84f05c992"
      },
      "outputs": [
        {
          "output_type": "error",
          "ename": "SyntaxError",
          "evalue": "expected ':' (ipython-input-3458227757.py, line 2)",
          "traceback": [
            "\u001b[0;36m  File \u001b[0;32m\"/tmp/ipython-input-3458227757.py\"\u001b[0;36m, line \u001b[0;32m2\u001b[0m\n\u001b[0;31m    for i in range (1,11)\u001b[0m\n\u001b[0m                         ^\u001b[0m\n\u001b[0;31mSyntaxError\u001b[0m\u001b[0;31m:\u001b[0m expected ':'\n"
          ]
        }
      ],
      "source": [
        "nu=[]\n",
        "for i in range (1,11)\n",
        "  nu[i]=i"
      ]
    },
    {
      "cell_type": "code",
      "source": [
        "nu=[] #nu.clear()\n",
        "for i in range(10):\n",
        "  nu.append(i+1)"
      ],
      "metadata": {
        "id": "-LzVvrcD-YqW"
      },
      "execution_count": 9,
      "outputs": []
    },
    {
      "cell_type": "code",
      "source": [
        "nu"
      ],
      "metadata": {
        "colab": {
          "base_uri": "https://localhost:8080/"
        },
        "id": "FAnU2nhM-ium",
        "outputId": "51d2fd88-6f70-4b78-cdf9-c90b2cfd2ad5"
      },
      "execution_count": 10,
      "outputs": [
        {
          "output_type": "execute_result",
          "data": {
            "text/plain": [
              "[1, 2, 3, 4, 5, 6, 7, 8, 9, 10]"
            ]
          },
          "metadata": {},
          "execution_count": 10
        }
      ]
    },
    {
      "cell_type": "code",
      "source": [
        "nombres=[]\n",
        "for i in range(3):\n",
        "  nombres.append(input(\"ingrese un nombre \"))"
      ],
      "metadata": {
        "colab": {
          "base_uri": "https://localhost:8080/"
        },
        "id": "vgu3Pa83-8f2",
        "outputId": "812d502c-985d-43fd-8dcb-9a845e170bc0"
      },
      "execution_count": 11,
      "outputs": [
        {
          "name": "stdout",
          "output_type": "stream",
          "text": [
            "ingrese un nombrea\n",
            "ingrese un nombres\n",
            "ingrese un nombred\n"
          ]
        }
      ]
    },
    {
      "cell_type": "code",
      "source": [
        "nombres"
      ],
      "metadata": {
        "colab": {
          "base_uri": "https://localhost:8080/"
        },
        "id": "J3fhDDCM_QvF",
        "outputId": "d10b80bc-796b-4c5f-ae94-529c2740f7ce"
      },
      "execution_count": 12,
      "outputs": [
        {
          "output_type": "execute_result",
          "data": {
            "text/plain": [
              "['a', 's', 'd']"
            ]
          },
          "metadata": {},
          "execution_count": 12
        }
      ]
    },
    {
      "cell_type": "markdown",
      "source": [
        "#listas por Comprecion\n",
        "son expresiones que generan lista\n",
        "\n",
        "```\n",
        "nombre_lista=[expresiom for variable in iteracion if condicion]\n",
        "```\n",
        "\n"
      ],
      "metadata": {
        "id": "XCSmNAMh_pOF"
      }
    },
    {
      "cell_type": "code",
      "source": [
        "###Ejemplo\n",
        "#1. convertir una lista de oraciones en una lista de palabras\n",
        "oracion=[\"aqui va una oracion\", \"aqui va otra oracion\", \"aqui va la tercera oracion\"]\n",
        "len(oracion)"
      ],
      "metadata": {
        "colab": {
          "base_uri": "https://localhost:8080/"
        },
        "id": "ubri3pY8_o4m",
        "outputId": "058c4f00-8c30-41eb-f1e0-b6924a13d86c"
      },
      "execution_count": 18,
      "outputs": [
        {
          "output_type": "execute_result",
          "data": {
            "text/plain": [
              "3"
            ]
          },
          "metadata": {},
          "execution_count": 18
        }
      ]
    },
    {
      "cell_type": "code",
      "source": [
        "palabras=[i.split() for i in oracion  ]\n",
        "palabras"
      ],
      "metadata": {
        "colab": {
          "base_uri": "https://localhost:8080/"
        },
        "id": "PU4IPS_OAtSF",
        "outputId": "d5d23e95-2370-43fd-efbf-81f35f5541d4"
      },
      "execution_count": 24,
      "outputs": [
        {
          "output_type": "execute_result",
          "data": {
            "text/plain": [
              "[['aqui', 'va', 'una', 'oracion'],\n",
              " ['aqui', 'va', 'otra', 'oracion'],\n",
              " ['aqui', 'va', 'la', 'tercera', 'oracion']]"
            ]
          },
          "metadata": {},
          "execution_count": 24
        }
      ]
    },
    {
      "cell_type": "code",
      "source": [
        "len(palabras[2])"
      ],
      "metadata": {
        "colab": {
          "base_uri": "https://localhost:8080/"
        },
        "id": "TISHWb_6CWnF",
        "outputId": "4a9f2ec9-8dcb-4586-9d9d-98d88926a3f4"
      },
      "execution_count": 34,
      "outputs": [
        {
          "output_type": "execute_result",
          "data": {
            "text/plain": [
              "5"
            ]
          },
          "metadata": {},
          "execution_count": 34
        }
      ]
    },
    {
      "cell_type": "code",
      "source": [
        "#2. Obtener los pares de Lista_num\n",
        "pares=[x for x in Lista_num if x%2==0]\n",
        "pares"
      ],
      "metadata": {
        "colab": {
          "base_uri": "https://localhost:8080/"
        },
        "id": "R3rAwpWjGY-P",
        "outputId": "67918d16-0e91-488c-df15-beafa112256d"
      },
      "execution_count": 41,
      "outputs": [
        {
          "output_type": "execute_result",
          "data": {
            "text/plain": [
              "[2, 4, 6, 8, 10]"
            ]
          },
          "metadata": {},
          "execution_count": 41
        }
      ]
    },
    {
      "cell_type": "code",
      "source": [
        "#3. Clasificar numeros en positivos y negativos\n",
        "numeros=[-1,2,-3,4,-5,6,-7,8,-9,10]\n",
        "clasificacion=[(\"positivo ✨\", x) if x>=0 else (\"negativo \",x) for x in numeros ]\n",
        "clasificacion"
      ],
      "metadata": {
        "colab": {
          "base_uri": "https://localhost:8080/"
        },
        "id": "au4PP8gAHOqJ",
        "outputId": "e7265ab9-4b1b-4a26-dd44-78a4821bdb89"
      },
      "execution_count": 45,
      "outputs": [
        {
          "output_type": "execute_result",
          "data": {
            "text/plain": [
              "[('negativo ', -1),\n",
              " ('positivo ✨', 2),\n",
              " ('negativo ', -3),\n",
              " ('positivo ✨', 4),\n",
              " ('negativo ', -5),\n",
              " ('positivo ✨', 6),\n",
              " ('negativo ', -7),\n",
              " ('positivo ✨', 8),\n",
              " ('negativo ', -9),\n",
              " ('positivo ✨', 10)]"
            ]
          },
          "metadata": {},
          "execution_count": 45
        }
      ]
    },
    {
      "cell_type": "markdown",
      "source": [
        "##indexacion en lista\n",
        "*recordar que python cuenta desde ***0***\n",
        "\n",
        "\n",
        "```\n",
        "Lista=[elemento1,elemento2,elemento3]\n",
        "Lista=[0]=elemento1\n",
        "Lista[3]=error fuera de rango\n",
        "```\n",
        "\n"
      ],
      "metadata": {
        "id": "iXNBKWT4D4US"
      }
    },
    {
      "cell_type": "code",
      "source": [
        "#indecacion negativa\n",
        "Lista_num=[1,2,3,4,5,6,7,8,9,10]\n",
        "Lista_num[-1]"
      ],
      "metadata": {
        "colab": {
          "base_uri": "https://localhost:8080/"
        },
        "id": "-pg3CCLYEuMp",
        "outputId": "4fe02d47-5388-4f0b-c92f-964bcf32acd2"
      },
      "execution_count": 35,
      "outputs": [
        {
          "output_type": "execute_result",
          "data": {
            "text/plain": [
              "10"
            ]
          },
          "metadata": {},
          "execution_count": 35
        }
      ]
    },
    {
      "cell_type": "code",
      "source": [
        "Lista_num[-2]"
      ],
      "metadata": {
        "colab": {
          "base_uri": "https://localhost:8080/"
        },
        "id": "maCNcdujFBo5",
        "outputId": "4771c5e9-400e-48e2-ff77-6dab6de5f1de"
      },
      "execution_count": 36,
      "outputs": [
        {
          "output_type": "execute_result",
          "data": {
            "text/plain": [
              "9"
            ]
          },
          "metadata": {},
          "execution_count": 36
        }
      ]
    },
    {
      "cell_type": "code",
      "source": [
        "Lista_num[len(Lista_num)-1]"
      ],
      "metadata": {
        "colab": {
          "base_uri": "https://localhost:8080/"
        },
        "id": "yvSbRtHKFNkg",
        "outputId": "c5756409-dbb8-43c6-cadd-40e64057d99a"
      },
      "execution_count": 37,
      "outputs": [
        {
          "output_type": "execute_result",
          "data": {
            "text/plain": [
              "10"
            ]
          },
          "metadata": {},
          "execution_count": 37
        }
      ]
    },
    {
      "cell_type": "code",
      "source": [
        "Lista_num[::]"
      ],
      "metadata": {
        "colab": {
          "base_uri": "https://localhost:8080/"
        },
        "id": "eTgfcMyHF8GY",
        "outputId": "4d48eb9b-e781-494c-9bd2-de3a2c83ac1f"
      },
      "execution_count": 39,
      "outputs": [
        {
          "output_type": "execute_result",
          "data": {
            "text/plain": [
              "[1, 2, 3, 4, 5, 6, 7, 8, 9, 10]"
            ]
          },
          "metadata": {},
          "execution_count": 39
        }
      ]
    },
    {
      "cell_type": "code",
      "source": [
        "Lista_num[:2]"
      ],
      "metadata": {
        "colab": {
          "base_uri": "https://localhost:8080/"
        },
        "id": "eZRy6IAGGD5Q",
        "outputId": "6b241dc4-7d3a-4918-a1d2-7adf256960fc"
      },
      "execution_count": 40,
      "outputs": [
        {
          "output_type": "execute_result",
          "data": {
            "text/plain": [
              "[1, 2]"
            ]
          },
          "metadata": {},
          "execution_count": 40
        }
      ]
    },
    {
      "cell_type": "code",
      "source": [],
      "metadata": {
        "id": "K0K0_RgxGWag"
      },
      "execution_count": null,
      "outputs": []
    }
  ]
}