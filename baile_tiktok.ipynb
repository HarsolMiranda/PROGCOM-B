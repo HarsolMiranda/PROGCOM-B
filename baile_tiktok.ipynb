{
  "nbformat": 4,
  "nbformat_minor": 0,
  "metadata": {
    "colab": {
      "provenance": []
    },
    "kernelspec": {
      "name": "python3",
      "display_name": "Python 3"
    },
    "language_info": {
      "name": "python"
    }
  },
  "cells": [
    {
      "cell_type": "code",
      "execution_count": null,
      "metadata": {
        "id": "_ncQBMquhFU6"
      },
      "outputs": [],
      "source": [
        "def mover_cadera(a,b):\n",
        "  for j in range(b):\n",
        "      for i in range(a):\n",
        "        print(\"Mover la mano hacia arriba \")\n",
        "      for i in range(a):\n",
        "        print(\"hacer gesto de tomar soda\")"
      ]
    },
    {
      "cell_type": "code",
      "source": [
        "\n",
        "mover_cadera(0,1)\n",
        "mover_cadera(1,1)"
      ],
      "metadata": {
        "colab": {
          "base_uri": "https://localhost:8080/"
        },
        "id": "QnbhR7jkhYlg",
        "outputId": "0d1390f8-9cbf-4bd7-c940-ea3a3158a757"
      },
      "execution_count": null,
      "outputs": [
        {
          "output_type": "stream",
          "name": "stdout",
          "text": [
            "Mover la mano hacia arriba \n",
            "hacer gesto de tomar soda\n"
          ]
        }
      ]
    },
    {
      "cell_type": "code",
      "source": [
        "def mover_codo(a,b,):\n",
        "  for j in range(b):\n",
        "      for i in range(a):\n",
        "        print(\"se juntan las manos \")\n",
        "      for i in range(a):\n",
        "        print(\"codaso a derecha\")\n",
        "      for i in range(a):\n",
        "        print(\"codaso a izquierda\")\n",
        "      for i in range(a):\n",
        "        print(\"codaso a derecha\")"
      ],
      "metadata": {
        "id": "f504cCiJi254"
      },
      "execution_count": null,
      "outputs": []
    },
    {
      "cell_type": "code",
      "source": [
        "mover_codo(0,2)\n",
        "mover_codo(1,1)"
      ],
      "metadata": {
        "colab": {
          "base_uri": "https://localhost:8080/"
        },
        "id": "idKDPbHKjPYA",
        "outputId": "70cdf41e-b1f0-43d9-c6e0-0570f5a5e35c"
      },
      "execution_count": null,
      "outputs": [
        {
          "output_type": "stream",
          "name": "stdout",
          "text": [
            "se juntan las manos \n",
            "codaso a derecha\n",
            "codaso a izquierda\n",
            "codaso a derecha\n"
          ]
        }
      ]
    },
    {
      "cell_type": "code",
      "source": [
        "def mover_haciarriba(a,b,):\n",
        "  for j in range(b):\n",
        "      for i in range(a):\n",
        "        print(\"sugetar la mano derecha de la mulleca iquierda \")\n",
        "      for i in range(a):\n",
        "        print(\"se suben las manos\")\n",
        "      for i in range(a):\n",
        "        print(\"se bajan las manos hacia abajo \")\n",
        "      for i in range(a):\n",
        "        print(\"se levanta la perna derecha\")"
      ],
      "metadata": {
        "id": "qDjLvM8sj2Nb"
      },
      "execution_count": null,
      "outputs": []
    },
    {
      "cell_type": "code",
      "source": [
        "mover_haciarriba(0,2)\n",
        "mover_haciarriba(1,1)"
      ],
      "metadata": {
        "colab": {
          "base_uri": "https://localhost:8080/"
        },
        "id": "8c7lEARnkw4q",
        "outputId": "4e374ce3-0b5d-409d-9b0d-8178c33c0882"
      },
      "execution_count": null,
      "outputs": [
        {
          "output_type": "stream",
          "name": "stdout",
          "text": [
            "sugetar la mano derecha de la mulleca iquierda \n",
            "se suben las manos\n",
            "se bajan las manos hacia abajo \n",
            "se levanta la perna derecha\n"
          ]
        }
      ]
    },
    {
      "cell_type": "code",
      "source": [
        "def mover_bajarlasmanos(a,b,):\n",
        "  for j in range(b):\n",
        "      for i in range(a):\n",
        "        print(\"brinco con la pierna iquierda \")\n",
        "      for i in range(a):\n",
        "        print(\"levantar las manos \")\n"
      ],
      "metadata": {
        "id": "IZbzaKi7kCKp"
      },
      "execution_count": null,
      "outputs": []
    },
    {
      "cell_type": "code",
      "source": [
        "mover_bajarlasmanos(0,2)\n",
        "mover_bajarlasmanos(1,1)"
      ],
      "metadata": {
        "colab": {
          "base_uri": "https://localhost:8080/"
        },
        "id": "r2lOnwsjmB_w",
        "outputId": "fd3aa1b4-42c5-4f80-b446-a31ffc6a165c"
      },
      "execution_count": null,
      "outputs": [
        {
          "output_type": "stream",
          "name": "stdout",
          "text": [
            "brinco con la pierna iquierda \n",
            "levantar las manos \n"
          ]
        }
      ]
    },
    {
      "cell_type": "code",
      "source": [
        "def mover_miracamara(a,b,):\n",
        "  for j in range(b):\n",
        "      for i in range(a):\n",
        "        print(\"baja las mano juntado juntando una con la mulleca de otra \")\n",
        "      for i in range(a):\n",
        "        print(\"jira la cabeza hacia la camara\")\n"
      ],
      "metadata": {
        "id": "mbIQ-bplmHa0"
      },
      "execution_count": null,
      "outputs": []
    },
    {
      "cell_type": "code",
      "source": [
        "mover_miracamara(0,2)\n",
        "mover_miracamara(1,1)"
      ],
      "metadata": {
        "colab": {
          "base_uri": "https://localhost:8080/"
        },
        "id": "kRjxXrdhmsiP",
        "outputId": "acdb6f3a-05d8-46e9-ebcd-646f8a09e27f"
      },
      "execution_count": null,
      "outputs": [
        {
          "output_type": "stream",
          "name": "stdout",
          "text": [
            "baja las mano juntado juntando una con la mulleca de otra \n",
            "jira la cabeza hacia la camara\n"
          ]
        }
      ]
    },
    {
      "cell_type": "code",
      "source": [
        "def mover_codos(a,b):\n",
        "  for j in range(b):\n",
        "      for i in range(a):\n",
        "        print(\"Mover de codo hacia derecha \")\n",
        "      for i in range(a):\n",
        "        print(\"hacer de codo hacia iquierda\")"
      ],
      "metadata": {
        "id": "WR-zNgSGm1_L"
      },
      "execution_count": null,
      "outputs": []
    },
    {
      "cell_type": "code",
      "source": [
        "\n",
        "mover_codos(1,1)\n",
        "mover_codos(1,1)"
      ],
      "metadata": {
        "colab": {
          "base_uri": "https://localhost:8080/"
        },
        "id": "i9HZRzeNm5lc",
        "outputId": "f3af758b-4d12-4a03-9cb5-5d7c42d04d59"
      },
      "execution_count": null,
      "outputs": [
        {
          "output_type": "stream",
          "name": "stdout",
          "text": [
            "Mover de codo hacia derecha \n",
            "hacer de codo hacia iquierda\n",
            "Mover de codo hacia derecha \n",
            "hacer de codo hacia iquierda\n"
          ]
        }
      ]
    },
    {
      "cell_type": "code",
      "source": [
        "\n",
        "def pasito(a,b):\n",
        "  for i in range(a):\n",
        "    print(f\"Doy {i} pasito hacia la {b}\")\n",
        "    print(f\"Doy {i} Mover de codo hacia {b}\")"
      ],
      "metadata": {
        "id": "xTU2GJTFnVJz"
      },
      "execution_count": null,
      "outputs": []
    },
    {
      "cell_type": "code",
      "source": [
        "\n",
        "\n",
        "pasito(3,\"derecha\")\n",
        "pasito(3,\" derecha\")"
      ],
      "metadata": {
        "colab": {
          "base_uri": "https://localhost:8080/"
        },
        "id": "2fUNORtToIOL",
        "outputId": "9e1af58c-8cf4-41a5-a4a2-0a0dfa55b07e"
      },
      "execution_count": null,
      "outputs": [
        {
          "output_type": "stream",
          "name": "stdout",
          "text": [
            "Doy 0 pasito hacia la derecha\n",
            "Doy 0 Mover de codo hacia derecha\n",
            "Doy 1 pasito hacia la derecha\n",
            "Doy 1 Mover de codo hacia derecha\n",
            "Doy 2 pasito hacia la derecha\n",
            "Doy 2 Mover de codo hacia derecha\n",
            "Doy 0 pasito hacia la  derecha\n",
            "Doy 0 Mover de codo hacia  derecha\n",
            "Doy 1 pasito hacia la  derecha\n",
            "Doy 1 Mover de codo hacia  derecha\n",
            "Doy 2 pasito hacia la  derecha\n",
            "Doy 2 Mover de codo hacia  derecha\n"
          ]
        }
      ]
    },
    {
      "cell_type": "code",
      "source": [
        "def mover_piernas(a,b):\n",
        "  for j in range(b):\n",
        "      for i in range(a):\n",
        "        print(\"patada hacia la derecha \")\n",
        "      for i in range(a):\n",
        "        print(\"pierna izquiera hacia derecha\")"
      ],
      "metadata": {
        "id": "Mb2FfCjdrCwp"
      },
      "execution_count": null,
      "outputs": []
    },
    {
      "cell_type": "code",
      "source": [
        "\n",
        "mover_piernas(0,1)\n",
        "mover_piernas(1,1)"
      ],
      "metadata": {
        "colab": {
          "base_uri": "https://localhost:8080/"
        },
        "id": "26z-nAMKrUOR",
        "outputId": "1a8e5eb5-73cf-4c3a-ca66-6133b9588280"
      },
      "execution_count": null,
      "outputs": [
        {
          "output_type": "stream",
          "name": "stdout",
          "text": [
            "patada hacia la derecha \n",
            "pierna izquiera hacia derecha\n"
          ]
        }
      ]
    },
    {
      "cell_type": "code",
      "source": [
        "def mover_brazos(a,b):\n",
        "  for j in range(b):\n",
        "      for i in range(a):\n",
        "        print(\"poner el codigo derecho hacia delante  \")\n",
        "      for i in range(a):\n",
        "        print(\"pierna mano izquieda hacia delante haciento 5\")"
      ],
      "metadata": {
        "id": "RI3mxYfZrgJi"
      },
      "execution_count": null,
      "outputs": []
    },
    {
      "cell_type": "code",
      "source": [
        "mover_brazos(0,1)\n",
        "mover_brazos(1,1)"
      ],
      "metadata": {
        "colab": {
          "base_uri": "https://localhost:8080/"
        },
        "id": "paPyFcfvr8U4",
        "outputId": "7f1bcfb8-7424-4424-8c2b-1e0e41ee1f9f"
      },
      "execution_count": null,
      "outputs": [
        {
          "output_type": "stream",
          "name": "stdout",
          "text": [
            "poner el codigo derecho hacia delante  \n",
            "pierna mano izquieda hacia delante haciento 5\n"
          ]
        }
      ]
    }
  ]
}