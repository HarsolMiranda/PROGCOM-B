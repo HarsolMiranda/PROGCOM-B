{
  "nbformat": 4,
  "nbformat_minor": 0,
  "metadata": {
    "colab": {
      "provenance": [],
      "authorship_tag": "ABX9TyNCyIiZzUdoUB5lN8hXl8IG",
      "include_colab_link": true
    },
    "kernelspec": {
      "name": "python3",
      "display_name": "Python 3"
    },
    "language_info": {
      "name": "python"
    }
  },
  "cells": [
    {
      "cell_type": "markdown",
      "metadata": {
        "id": "view-in-github",
        "colab_type": "text"
      },
      "source": [
        "<a href=\"https://colab.research.google.com/github/HarsolMiranda/PROGCOM-B/blob/main/Lista_de_ejecicios.ipynb\" target=\"_parent\"><img src=\"https://colab.research.google.com/assets/colab-badge.svg\" alt=\"Open In Colab\"/></a>"
      ]
    },
    {
      "cell_type": "code",
      "source": [
        "#1.Crear una lista con los cuadrados de los números del 1 al 10.\n",
        "cuadrados = [i ** 2 for i in range(1,11)]\n",
        "cuadrados"
      ],
      "metadata": {
        "colab": {
          "base_uri": "https://localhost:8080/"
        },
        "id": "hSwib0oz9iL_",
        "outputId": "29d74a03-4ba9-4a1a-d23a-e8efd0a4adfe"
      },
      "execution_count": 3,
      "outputs": [
        {
          "output_type": "execute_result",
          "data": {
            "text/plain": [
              "[1, 4, 9, 16, 25, 36, 49, 64, 81, 100]"
            ]
          },
          "metadata": {},
          "execution_count": 3
        }
      ]
    },
    {
      "cell_type": "code",
      "source": [
        "#2.Obtener una lista con los números pares del 0 al 20.\n",
        "NumerosPares = [i for i in range(1,21) if i%2 ==0]\n",
        "NumerosPares"
      ],
      "metadata": {
        "colab": {
          "base_uri": "https://localhost:8080/"
        },
        "id": "_UG9H8Gf9kF3",
        "outputId": "075eeb69-fa0b-4fc0-8930-f59939d50732"
      },
      "execution_count": 12,
      "outputs": [
        {
          "output_type": "execute_result",
          "data": {
            "text/plain": [
              "[2, 4, 6, 8, 10, 12, 14, 16, 18, 20]"
            ]
          },
          "metadata": {},
          "execution_count": 12
        }
      ]
    },
    {
      "cell_type": "code",
      "source": [
        "#3.Crear una lista con el doble de cada número del 1 al 5.\n",
        "NumerosDobles = [i * 2 for i in range(1,6)]\n",
        "NumerosDobles"
      ],
      "metadata": {
        "colab": {
          "base_uri": "https://localhost:8080/"
        },
        "id": "XYXz8IE29oKe",
        "outputId": "eafb2350-a86d-46a9-edfb-5d4720aae078"
      },
      "execution_count": 5,
      "outputs": [
        {
          "output_type": "execute_result",
          "data": {
            "text/plain": [
              "[2, 4, 6, 8, 10]"
            ]
          },
          "metadata": {},
          "execution_count": 5
        }
      ]
    },
    {
      "cell_type": "code",
      "source": [
        "#4. De la palabra \"programacion\", obtener solo las vocales.\n",
        "palabra = \"programacion\"\n",
        "vocales = [letra for letra in palabra if letra in \"aeiou\"]\n",
        "vocales"
      ],
      "metadata": {
        "colab": {
          "base_uri": "https://localhost:8080/"
        },
        "id": "8JAUV7ad9qGm",
        "outputId": "959c7775-8b6b-4719-9eb6-69628a96ad49"
      },
      "execution_count": 6,
      "outputs": [
        {
          "output_type": "execute_result",
          "data": {
            "text/plain": [
              "['o', 'a', 'a', 'i', 'o']"
            ]
          },
          "metadata": {},
          "execution_count": 6
        }
      ]
    },
    {
      "cell_type": "code",
      "source": [
        "#5. Dada la lista [\"python\", \"java\", \"c++\"], obtener otra lista con las palabras en mayúsculas.\n",
        "Programas = [\"python\", \"java\", \"c++\"]\n",
        "Mayúsculas = [i.upper() for i in Programas]\n",
        "Mayúsculas"
      ],
      "metadata": {
        "colab": {
          "base_uri": "https://localhost:8080/"
        },
        "id": "SHeZ_y1K9tm2",
        "outputId": "b3466be0-81d4-450a-d2e6-b39db2793afd"
      },
      "execution_count": 7,
      "outputs": [
        {
          "output_type": "execute_result",
          "data": {
            "text/plain": [
              "['PYTHON', 'JAVA', 'C++']"
            ]
          },
          "metadata": {},
          "execution_count": 7
        }
      ]
    },
    {
      "cell_type": "code",
      "source": [
        "#6. Crear una lista con \"par\" o \"impar\" para los números del 1 al 10.\n",
        "ListaNumers = [1,2,3,4,5,6,7,8,9,10]\n",
        "clasificacion = [(\"el numero\", x, \"es par\") if x%2==0 else (\"el numero\", x, \"es impar\" ) for x in ListaNumers]\n",
        "clasificacion"
      ],
      "metadata": {
        "colab": {
          "base_uri": "https://localhost:8080/"
        },
        "id": "nMLdgPhu9v8A",
        "outputId": "a99c06ec-a4e6-4cbe-daab-6cbd80e46cc9"
      },
      "execution_count": 11,
      "outputs": [
        {
          "output_type": "execute_result",
          "data": {
            "text/plain": [
              "[('el numero', 1, 'es impar'),\n",
              " ('el numero', 2, 'es par'),\n",
              " ('el numero', 3, 'es impar'),\n",
              " ('el numero', 4, 'es par'),\n",
              " ('el numero', 5, 'es impar'),\n",
              " ('el numero', 6, 'es par'),\n",
              " ('el numero', 7, 'es impar'),\n",
              " ('el numero', 8, 'es par'),\n",
              " ('el numero', 9, 'es impar'),\n",
              " ('el numero', 10, 'es par')]"
            ]
          },
          "metadata": {},
          "execution_count": 11
        }
      ]
    },
    {
      "cell_type": "code",
      "source": [
        "#7. Generar una lista de tuplas con el número y su cuadrado del 1 al 5.\n",
        "ListaNumeros = [1,2,3,4,5]\n",
        "NumerosCuadrados = [(x, \"su cuadrado es\" ,x**2 ) for x in ListaNumeros]\n",
        "NumerosCuadrados"
      ],
      "metadata": {
        "colab": {
          "base_uri": "https://localhost:8080/"
        },
        "id": "JIlf96eI93yQ",
        "outputId": "dbc37fc7-ab99-472b-ff1b-1fc75bd1fb06"
      },
      "execution_count": 9,
      "outputs": [
        {
          "output_type": "execute_result",
          "data": {
            "text/plain": [
              "[(1, 'su cuadrado es', 1),\n",
              " (2, 'su cuadrado es', 4),\n",
              " (3, 'su cuadrado es', 9),\n",
              " (4, 'su cuadrado es', 16),\n",
              " (5, 'su cuadrado es', 25)]"
            ]
          },
          "metadata": {},
          "execution_count": 9
        }
      ]
    },
    {
      "cell_type": "code",
      "source": [
        "#8. Crear una lista con todas las combinaciones de letras en [\"a\",\"b\"] y números en [1,2,3].\n",
        "Letras = [\"a\",\"b\"]\n",
        "Numeros = [1,2,3]\n",
        "Combinados = [(letra,Numero) for letra in Letras for Numero in Numeros]\n",
        "Combinados"
      ],
      "metadata": {
        "colab": {
          "base_uri": "https://localhost:8080/"
        },
        "id": "Dp2_kxHK95jm",
        "outputId": "207976a5-2877-4679-d472-760bcb7c4b54"
      },
      "execution_count": 10,
      "outputs": [
        {
          "output_type": "execute_result",
          "data": {
            "text/plain": [
              "[('a', 1), ('a', 2), ('a', 3), ('b', 1), ('b', 2), ('b', 3)]"
            ]
          },
          "metadata": {},
          "execution_count": 10
        }
      ]
    },
    {
      "cell_type": "code",
      "source": [
        "#9. De la lista [\"sol\", \"estrella\", \"mar\", \"planeta\"], obtener solo las palabras con más de 4 letras.\n",
        "palabras =[\"sol\", \"estrella\", \"mar\", \"planeta\"]\n",
        "filtro = [i for i in palabras if len(i)<4]\n",
        "filtro"
      ],
      "metadata": {
        "colab": {
          "base_uri": "https://localhost:8080/"
        },
        "id": "N4l9We4_99Me",
        "outputId": "0210dd04-3796-411c-de76-4b874c848c93"
      },
      "execution_count": 13,
      "outputs": [
        {
          "output_type": "execute_result",
          "data": {
            "text/plain": [
              "['sol', 'mar']"
            ]
          },
          "metadata": {},
          "execution_count": 13
        }
      ]
    },
    {
      "cell_type": "code",
      "source": [
        "10# Clasificar la temperatura de una lista. Si la temperatura es menor a 26, el clima es \"Frío\". Si es mayor a 29, el clima es \"Caliente\".\n",
        "Temperatura=(range(1,31))\n",
        "Clima=[(\"Frio\",c)if c<=26 else (\"Templado\",c) if c<=29 and c<=29 else (\"Caliente\",c) for c in Temperatura]\n",
        "Clima\n",
        "[('Frio', 1), ('Frio', 2), ('Frio', 3), ('Frio', 4), ('Frio', 5), ('Frio', 6), ('Frio', 7), ('Frio', 8), ('Frio', 9), ('Frio', 10), ('Frio', 11), ('Frio', 12), ('Frio', 13), ('Frio', 14), ('Frio', 15), ('Frio', 16), ('Frio', 17), ('Frio', 18), ('Frio', 19), ('Frio', 20), ('Frio', 21), ('Frio', 22), ('Frio', 23), ('Frio', 24), ('Frio', 25), ('Frio', 26), ('Templado', 27), ('Templado', 28), ('Templado', 29), ('Caliente', 30)]"
      ],
      "metadata": {
        "colab": {
          "base_uri": "https://localhost:8080/"
        },
        "id": "D1qCImt2qdzQ",
        "outputId": "072f8a2d-aef7-4885-a0af-7429c55b67d3"
      },
      "execution_count": 2,
      "outputs": [
        {
          "output_type": "execute_result",
          "data": {
            "text/plain": [
              "[('Frio', 1),\n",
              " ('Frio', 2),\n",
              " ('Frio', 3),\n",
              " ('Frio', 4),\n",
              " ('Frio', 5),\n",
              " ('Frio', 6),\n",
              " ('Frio', 7),\n",
              " ('Frio', 8),\n",
              " ('Frio', 9),\n",
              " ('Frio', 10),\n",
              " ('Frio', 11),\n",
              " ('Frio', 12),\n",
              " ('Frio', 13),\n",
              " ('Frio', 14),\n",
              " ('Frio', 15),\n",
              " ('Frio', 16),\n",
              " ('Frio', 17),\n",
              " ('Frio', 18),\n",
              " ('Frio', 19),\n",
              " ('Frio', 20),\n",
              " ('Frio', 21),\n",
              " ('Frio', 22),\n",
              " ('Frio', 23),\n",
              " ('Frio', 24),\n",
              " ('Frio', 25),\n",
              " ('Frio', 26),\n",
              " ('Templado', 27),\n",
              " ('Templado', 28),\n",
              " ('Templado', 29),\n",
              " ('Caliente', 30)]"
            ]
          },
          "metadata": {},
          "execution_count": 2
        }
      ]
    }
  ]
}