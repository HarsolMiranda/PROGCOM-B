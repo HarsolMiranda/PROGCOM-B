{
  "nbformat": 4,
  "nbformat_minor": 0,
  "metadata": {
    "colab": {
      "provenance": [],
      "authorship_tag": "ABX9TyNXaQGkGyIMHaZbcn7hT6fo",
      "include_colab_link": true
    },
    "kernelspec": {
      "name": "python3",
      "display_name": "Python 3"
    },
    "language_info": {
      "name": "python"
    }
  },
  "cells": [
    {
      "cell_type": "markdown",
      "metadata": {
        "id": "view-in-github",
        "colab_type": "text"
      },
      "source": [
        "<a href=\"https://colab.research.google.com/github/HarsolMiranda/PROGCOM-B/blob/main/Repositorio_de_Errores_Simples_en_Python.ipynb\" target=\"_parent\"><img src=\"https://colab.research.google.com/assets/colab-badge.svg\" alt=\"Open In Colab\"/></a>"
      ]
    },
    {
      "cell_type": "markdown",
      "source": [
        "#Repositorio de Errores Simples en Python"
      ],
      "metadata": {
        "id": "mIKYbMeVUasP"
      }
    },
    {
      "cell_type": "markdown",
      "source": [
        "1. Error de sintaxis (SyntaxError)\n",
        "Cómo ocurre: Cuando escribimos mal un comando o falta un carácter."
      ],
      "metadata": {
        "id": "CtcESTYtUkCU"
      }
    },
    {
      "cell_type": "code",
      "execution_count": null,
      "metadata": {
        "id": "Xrtf0_x5UQSa"
      },
      "outputs": [],
      "source": [
        "# Ejemplo con error\n",
        " print(\"Hola mundo\"\n",
        " # falta cerrar el paréntesis\n",
        " # Corrección\n",
        " print(\"Hola mundo\")\n",
        ""
      ]
    },
    {
      "cell_type": "markdown",
      "source": [
        "2. IndentationError\n",
        "Cómo ocurre: Cuando olvidamos identar el código en un bloque."
      ],
      "metadata": {
        "id": "KDm8PGpRUnD1"
      }
    },
    {
      "cell_type": "code",
      "source": [
        "\n",
        "# Ejemplo con error\n",
        " if True:\n",
        " print(\"Hola\")\n",
        " #falta indentación\n",
        " # Corrección\n",
        " if True:\n",
        " print(\"Hola\")\n",
        " #con indentación"
      ],
      "metadata": {
        "id": "oGVrVd2RUrt1"
      },
      "execution_count": null,
      "outputs": []
    },
    {
      "cell_type": "markdown",
      "source": [
        "3. NameError\n",
        "Cómo ocurre: Cuando usamos una variable que no está de&nida."
      ],
      "metadata": {
        "id": "tF8iQOlEUz5k"
      }
    },
    {
      "cell_type": "code",
      "source": [
        "\n",
        "# Ejemplo con error\n",
        " print(x)\n",
        " # NameError: name 'x' is not defined\n",
        " # Corrección\n",
        " x = 5\n",
        " print(x)"
      ],
      "metadata": {
        "id": "x-KiWztTU1mc"
      },
      "execution_count": null,
      "outputs": []
    },
    {
      "cell_type": "markdown",
      "source": [
        "4. TypeError sencillo\n",
        "Cómo ocurre: Cuando intentamos sumar un número con un texto."
      ],
      "metadata": {
        "id": "_Lslk-6iU8yU"
      }
    },
    {
      "cell_type": "code",
      "source": [
        "\n",
        "# Ejemplo con error\n",
        " edad = 18\n",
        " print(\"Tengo \" + edad + \" años\")\n",
        " # TypeError\n",
        " # Corrección: Convertir a string:\n",
        " print(\"Tengo \" + str(edad) + \" años\")"
      ],
      "metadata": {
        "id": "pCNGquZxU-O8"
      },
      "execution_count": null,
      "outputs": []
    },
    {
      "cell_type": "markdown",
      "source": [
        "5. ZeroDivisionError\n",
        "Cómo ocurre: Cuando intentamos dividir entre cero."
      ],
      "metadata": {
        "id": "cVL6MpBnU_Kk"
      }
    },
    {
      "cell_type": "code",
      "source": [
        "\n",
        " # Ejemplo con error\n",
        " print(10 / 0)\n",
        " # ZeroDivisionError\n",
        " # Corrección\n",
        " print(\"No se puede dividir entre cero\")\n",
        ""
      ],
      "metadata": {
        "id": "yZoi8sp0VDcM"
      },
      "execution_count": null,
      "outputs": []
    },
    {
      "cell_type": "markdown",
      "source": [
        "6. IndexError\n",
        "Cómo ocurre: Este error aparece cuando intentamos acceder a una posición de una lista (o secuencia) que no existe."
      ],
      "metadata": {
        "id": "zdmUDRA0VFR0"
      }
    },
    {
      "cell_type": "code",
      "source": [
        "# Ejemplo con error\n",
        " frutas = [\"manzana\", \"pera\", \"uva\"]\n",
        " print(frutas[5])\n",
        " # IndexError\n",
        " #corrección\n",
        " frutas = [\"manzana\", \"pera\", \"uva\"]\n",
        " # Forma 1: usar un índice válido\n",
        " print(frutas[2])\n",
        " # Imprime: uva\n",
        " # Forma 2: comprobar tamaño antes\n",
        " indice = 5\n",
        " if indice < len(frutas):\n",
        " print(frutas[indice])\n",
        " else:\n",
        " print(\"Ese índice no existe en la lista\")"
      ],
      "metadata": {
        "id": "qf5rGZHhVIsE"
      },
      "execution_count": null,
      "outputs": []
    },
    {
      "cell_type": "markdown",
      "source": [
        "7. KeyError\n",
        "Cómo ocurre: Este error sucede cuando intentamos acceder a una clave que no existe dentro de un diccionario en Python."
      ],
      "metadata": {
        "id": "bwPB2DbKVLeM"
      }
    },
    {
      "cell_type": "code",
      "source": [
        "\n",
        "# Ejemplo con error\n",
        "paises = {\"Colombia\": \"Bogotá\", \"Perú\": \"Lima\"}\n",
        "print(paises[\"Chile\"])\n",
        "# KeyError: 'Chile'\n",
        "\n",
        "# Corrección: usar get() o validar la clave\n",
        "print(paises.get(\"Chile\", \"No existe este país en el diccionario\"))"
      ],
      "metadata": {
        "id": "jn2SnJsRVM5G"
      },
      "execution_count": null,
      "outputs": []
    },
    {
      "cell_type": "markdown",
      "source": [
        "8. AttributeError\n",
        "Cómo ocurre: Sucede cuando intentas usar un método/atributo que no existe en el objeto."
      ],
      "metadata": {
        "id": "8RlWnMBhVSbc"
      }
    },
    {
      "cell_type": "code",
      "source": [
        "texto = \"Hola mundo\"\n",
        "print(texto.push(\"!\"))   # .push no existe para strings\n",
        "#·solulicon\n",
        "\n",
        "texto = \"Hola mundo\"\n",
        "print(texto + \"!\")       # concatenación correct"
      ],
      "metadata": {
        "id": "kwRL_fNtVWdF"
      },
      "execution_count": null,
      "outputs": []
    }
  ]
}