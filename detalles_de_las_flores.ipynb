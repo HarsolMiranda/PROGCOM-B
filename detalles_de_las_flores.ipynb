{
  "nbformat": 4,
  "nbformat_minor": 0,
  "metadata": {
    "colab": {
      "provenance": [],
      "authorship_tag": "ABX9TyMWG84UVTkBuMhqM0u4Pn+/",
      "include_colab_link": true
    },
    "kernelspec": {
      "name": "python3",
      "display_name": "Python 3"
    },
    "language_info": {
      "name": "python"
    }
  },
  "cells": [
    {
      "cell_type": "markdown",
      "metadata": {
        "id": "view-in-github",
        "colab_type": "text"
      },
      "source": [
        "<a href=\"https://colab.research.google.com/github/HarsolMiranda/PROGCOM-B/blob/main/detalles_de_las_flores.ipynb\" target=\"_parent\"><img src=\"https://colab.research.google.com/assets/colab-badge.svg\" alt=\"Open In Colab\"/></a>"
      ]
    },
    {
      "cell_type": "code",
      "source": [
        "from google.colab import drive\n",
        "drive.mount('/content/drive')\n"
      ],
      "metadata": {
        "id": "buVhSTdoUslN"
      },
      "execution_count": null,
      "outputs": []
    },
    {
      "cell_type": "code",
      "source": [
        "ruta_imagen = \"/content/drive/MyDrive/floriceria/1.jpg\"\n",
        "ruta_imagen2 = \"/content/drive/MyDrive/floriceria/2.jpg\"\n",
        "ruta_imagen3 = \"/content/drive/MyDrive/floriceria/3.jpg\"\n",
        "ruta_imagen4 = \"/content/drive/MyDrive/floriceria/4.jpg\""
      ],
      "metadata": {
        "id": "a50iZ_LnUwZs"
      },
      "execution_count": null,
      "outputs": []
    },
    {
      "cell_type": "code",
      "source": [
        "from PIL import Image\n",
        "import matplotlib.pyplot as plt\n",
        "\n",
        "\n",
        "imagen = Image.open(ruta_imagen2)\n",
        "plt.imshow(imagen)\n",
        "plt.axis('off')\n",
        "plt.show()"
      ],
      "metadata": {
        "id": "BqzjmggUVaC8"
      },
      "execution_count": null,
      "outputs": []
    },
    {
      "cell_type": "code",
      "source": [
        "from PIL import Image\n",
        "import matplotlib.pyplot as plt\n",
        "\n",
        "# Abrir y mostrar la imagen\n",
        "imagen = Image.open(ruta_imagen2)\n",
        "plt.imshow(imagen)\n",
        "plt.axis('off')  # Oculta los ejes\n",
        "plt.show()"
      ],
      "metadata": {
        "id": "DQizHk_bU86U"
      },
      "execution_count": null,
      "outputs": []
    },
    {
      "cell_type": "code",
      "execution_count": null,
      "metadata": {
        "colab": {
          "base_uri": "https://localhost:8080/"
        },
        "id": "bHEiJ0n3FeCa",
        "outputId": "f8c1a998-df44-4df3-cb58-375db3789cb8"
      },
      "outputs": [
        {
          "metadata": {
            "tags": null
          },
          "name": "stdout",
          "output_type": "stream",
          "text": [
            "\n",
            "--- Tienda Mágica ---\n",
            "1. Entrada principal\n",
            "2. Lateral derecho\n",
            "3. Atrás\n",
            "4. Lateral izquierdo\n",
            "5. Tejado\n",
            "6. Piso\n",
            "Nuestra tienda consta de:\n",
            "- Una puerta de hierro de calibre 18\n",
            "- Dos flores decorativas en la entrada: una amapola y un girasol\n",
            "- Un letrero en la parte superior con la leyenda 'Tienda Mágica'\n",
            "- Paredes de ladrillo.\n"
          ]
        }
      ],
      "source": [
        "from PIL import Image\n",
        "import matplotlib.pyplot as plt\n",
        "def mostrar_menu():\n",
        "    print(\"\\n--- Tienda Mágica ---\")\n",
        "    print(\"1. Entrada principal\")\n",
        "    print(\"2. Lateral derecho\")\n",
        "    print(\"3. Atrás\")\n",
        "    print(\"4. Lateral izquierdo\")\n",
        "    print(\"5. Tejado\")\n",
        "    print(\"6. Piso\")\n",
        "\n",
        "while True:\n",
        "    mostrar_menu()\n",
        "    opcion = input(\"Elige una opción (1-6): \")\n",
        "\n",
        "    if opcion == \"1\":\n",
        "\n",
        "        print(\"Nuestra tienda consta de:\\n- Una puerta de hierro de calibre 18\\n- Dos flores decorativas en la entrada: una amapola y un girasol\\n- Un letrero en la parte superior con la leyenda 'Tienda Mágica'\\n- Paredes de ladrillo.\")\n",
        "    elif opcion == \"2\":\n",
        "\n",
        "        imagen = Image.open(ruta_imagen2)\n",
        "        plt.imshow(imagen)\n",
        "        plt.axis('off')\n",
        "        plt.show()\n",
        "        print(\"En el lateral derecho hay:\\n- Un árbol en la esquina derecha\\n- Un pequeño girasol al lado izquierdo\\n- Una planta flotando en la parte izquierda.\")\n",
        "    elif opcion == \"3\":\n",
        "        imagen = Image.open(ruta_imagen3)\n",
        "        plt.imshow(imagen)\n",
        "        plt.axis('off')\n",
        "        plt.show()\n",
        "        print(\"En la parte de atrás hay:\\n- Un árbol gigante en el centro de la casa\\n- Una ventana con un paisaje verde, cielo despejado y flores rojas y amarillas.\")\n",
        "    elif opcion == \"4\":\n",
        "        imagen = Image.open(ruta_imagen4)\n",
        "        plt.imshow(imagen)\n",
        "        plt.axis('off')\n",
        "        plt.show()\n",
        "        print(\"En el lateral izquierdo hay:\\n- Dos árboles únicos por sus hojas, como recordatorio de que aunque no se vean, se pueden amar\\n- Césped verde y un pequeño hongo floreciendo desde abajo.\")\n",
        "    elif opcion == \"5\":\n",
        "\n",
        "        imagen = Image.open(ruta_imagen)\n",
        "        plt.imshow(imagen)\n",
        "        plt.axis('off')\n",
        "        plt.show()\n",
        "        print(\"El tejado está decorado con hermosas tejas de barro.\")\n",
        "    elif opcion == \"6\":\n",
        "        print(\"Piso 👍.\")\n",
        "    else:\n",
        "        print(\"Opción inválida. Por favor, elige entre 1 y 6.\")\n",
        "\n",
        "    continuar = input(\"\\n¿Quieres salir del programa? (s/n): \").lower()\n",
        "    if continuar == \"s\":\n",
        "        print(\"Programa finalizado.\")\n",
        "        break"
      ]
    },
    {
      "cell_type": "code",
      "source": [
        "from google.colab import drive\n",
        "drive.mount('/content/drive')\n"
      ],
      "metadata": {
        "id": "KJYaKY9PRRYI"
      },
      "execution_count": null,
      "outputs": []
    },
    {
      "cell_type": "code",
      "source": [
        "ruta_imagen = \"/content/drive/MyDrive/floriceria/1.jpg\""
      ],
      "metadata": {
        "id": "wFExxeSxR2Uc"
      },
      "execution_count": null,
      "outputs": []
    },
    {
      "cell_type": "code",
      "source": [
        "ruta_imagen"
      ],
      "metadata": {
        "id": "9P42WfYlT8PM"
      },
      "execution_count": null,
      "outputs": []
    },
    {
      "cell_type": "code",
      "source": [
        "from PIL import Image\n",
        "import matplotlib.pyplot as plt\n",
        "\n",
        "imagen = Image.open(ruta_imagen)\n",
        "plt.imshow(imagen)\n",
        "plt.axis('off')\n",
        "plt.show()"
      ],
      "metadata": {
        "id": "xPZ2VmNnR5PV"
      },
      "execution_count": null,
      "outputs": []
    },
    {
      "cell_type": "code",
      "source": [],
      "metadata": {
        "id": "HOHm82siTWtr"
      },
      "execution_count": null,
      "outputs": []
    }
  ]
}