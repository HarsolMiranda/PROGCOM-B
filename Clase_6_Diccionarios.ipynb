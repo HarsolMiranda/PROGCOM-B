{
  "nbformat": 4,
  "nbformat_minor": 0,
  "metadata": {
    "colab": {
      "provenance": [],
      "authorship_tag": "ABX9TyMbSNSfoKyUG2pGdsctS2Te",
      "include_colab_link": true
    },
    "kernelspec": {
      "name": "python3",
      "display_name": "Python 3"
    },
    "language_info": {
      "name": "python"
    }
  },
  "cells": [
    {
      "cell_type": "markdown",
      "metadata": {
        "id": "view-in-github",
        "colab_type": "text"
      },
      "source": [
        "<a href=\"https://colab.research.google.com/github/HarsolMiranda/PROGCOM-B/blob/main/Clase_6_Diccionarios.ipynb\" target=\"_parent\"><img src=\"https://colab.research.google.com/assets/colab-badge.svg\" alt=\"Open In Colab\"/></a>"
      ]
    },
    {
      "cell_type": "markdown",
      "source": [
        "##diccionarios\n",
        "estrcutra de datos que alamacena valores\n",
        "\n",
        "Sintaxis\n",
        "\n",
        "\n",
        "\n",
        "```\n",
        "nombre_diccionario={\"llave\":valor}\n",
        "\n",
        "*llave: **siempre* Tiene que ser alfanumerica\n",
        "*valor: cualquier tipo de dato\n",
        "```\n",
        "Los Diccionarios **no** tiene indexación\n"
      ],
      "metadata": {
        "id": "3X5hwTDEbhjY"
      }
    },
    {
      "cell_type": "code",
      "metadata": {
        "id": "99a04b57"
      },
      "source": [
        "Liga_justicia={\"superheroes\":[\"Batman\",\"superman\",\"wordewoman\"],\n",
        "               \"indetidades\":[\"Bruce\",\"Clark\",\"Diana\"]}"
      ],
      "execution_count": 126,
      "outputs": []
    },
    {
      "cell_type": "code",
      "source": [
        "type(Liga_justicia)"
      ],
      "metadata": {
        "colab": {
          "base_uri": "https://localhost:8080/"
        },
        "id": "41NDKmvIeCHd",
        "outputId": "382932d3-a559-4219-f1df-017f7289db40"
      },
      "execution_count": 127,
      "outputs": [
        {
          "output_type": "execute_result",
          "data": {
            "text/plain": [
              "dict"
            ]
          },
          "metadata": {},
          "execution_count": 127
        }
      ]
    },
    {
      "cell_type": "code",
      "source": [
        "Liga_justicia"
      ],
      "metadata": {
        "colab": {
          "base_uri": "https://localhost:8080/"
        },
        "id": "45E-6jaOeI6F",
        "outputId": "6ba38051-0b20-459f-ca2f-7eaf9bb2d267"
      },
      "execution_count": 128,
      "outputs": [
        {
          "output_type": "execute_result",
          "data": {
            "text/plain": [
              "{'superheroes': ['Batman', 'superman', 'wordewoman'],\n",
              " 'indetidades': ['Bruce', 'Clark', 'Diana']}"
            ]
          },
          "metadata": {},
          "execution_count": 128
        }
      ]
    },
    {
      "cell_type": "code",
      "source": [
        "Liga_justicia[\"superheroes\"]"
      ],
      "metadata": {
        "colab": {
          "base_uri": "https://localhost:8080/"
        },
        "id": "C7Uj8OMcfVtk",
        "outputId": "fa319463-0810-4952-f270-1315f58e79f5"
      },
      "execution_count": 129,
      "outputs": [
        {
          "output_type": "execute_result",
          "data": {
            "text/plain": [
              "['Batman', 'superman', 'wordewoman']"
            ]
          },
          "metadata": {},
          "execution_count": 129
        }
      ]
    },
    {
      "cell_type": "code",
      "source": [
        "Liga_justicia[\"indetidades\"][2]"
      ],
      "metadata": {
        "colab": {
          "base_uri": "https://localhost:8080/",
          "height": 35
        },
        "id": "mzHeh8o2gIuT",
        "outputId": "f200187c-6b82-46bc-e1ad-3c9ee36441b2"
      },
      "execution_count": 130,
      "outputs": [
        {
          "output_type": "execute_result",
          "data": {
            "text/plain": [
              "'Diana'"
            ],
            "application/vnd.google.colaboratory.intrinsic+json": {
              "type": "string"
            }
          },
          "metadata": {},
          "execution_count": 130
        }
      ]
    },
    {
      "cell_type": "markdown",
      "source": [
        "#funciones Asociadas\n",
        "**Clean** limpia La lista sin alladiste algo\n",
        "\n",
        "\n",
        "\n",
        "**pop** Elimina la llave de que asiganas\n",
        "\n",
        "\n",
        "```\n",
        "Liga_justicia.pop(\"superheroes\")\n",
        "```\n",
        "**copy** Crea una copia de un diccionario de uno vacio a uno lleno\n",
        "\n",
        "\n",
        "```\n",
        "justicia_joven={}\n",
        "justicia_joven=Liga_justicia.copy()\n",
        "justicia_joven\n",
        "```\n",
        "\n",
        "**Get** Es para recuperar un valor anterior mente\n",
        "\n",
        "```\n",
        "Liga_justicia.get(\"supeheroes\")\n",
        "```\n",
        "\n",
        "\n",
        "\n",
        "\n"
      ],
      "metadata": {
        "id": "A9f2IKPKgsXy"
      }
    },
    {
      "cell_type": "code",
      "source": [
        "Liga_justicia.pop(\"superheroes\")"
      ],
      "metadata": {
        "colab": {
          "base_uri": "https://localhost:8080/"
        },
        "id": "r7pZh-ywjOLY",
        "outputId": "fd7c9615-899f-428b-f7b8-dbe9d486632f"
      },
      "execution_count": 131,
      "outputs": [
        {
          "output_type": "execute_result",
          "data": {
            "text/plain": [
              "['Batman', 'superman', 'wordewoman']"
            ]
          },
          "metadata": {},
          "execution_count": 131
        }
      ]
    },
    {
      "cell_type": "markdown",
      "source": [],
      "metadata": {
        "id": "c1EhOEF5lLgm"
      }
    },
    {
      "cell_type": "code",
      "source": [
        "Liga_justicia"
      ],
      "metadata": {
        "colab": {
          "base_uri": "https://localhost:8080/"
        },
        "id": "sUypD-najZV_",
        "outputId": "6bd38251-9d76-4367-a8ac-23fd583fef2f"
      },
      "execution_count": 132,
      "outputs": [
        {
          "output_type": "execute_result",
          "data": {
            "text/plain": [
              "{'indetidades': ['Bruce', 'Clark', 'Diana']}"
            ]
          },
          "metadata": {},
          "execution_count": 132
        }
      ]
    },
    {
      "cell_type": "code",
      "metadata": {
        "id": "d7d2d7cb"
      },
      "source": [
        "SuperVillano = [\"Brainiac\",\"Flash\",\"reveser\"]"
      ],
      "execution_count": 133,
      "outputs": []
    },
    {
      "cell_type": "code",
      "source": [
        "SuperVillano"
      ],
      "metadata": {
        "colab": {
          "base_uri": "https://localhost:8080/"
        },
        "id": "crdFhBEUkYYg",
        "outputId": "e76c4d70-cbe9-49b5-bb76-48210b01c23e"
      },
      "execution_count": 134,
      "outputs": [
        {
          "output_type": "execute_result",
          "data": {
            "text/plain": [
              "['Brainiac', 'Flash', 'reveser']"
            ]
          },
          "metadata": {},
          "execution_count": 134
        }
      ]
    },
    {
      "cell_type": "code",
      "source": [
        "justicia_joven={}\n",
        "justicia_joven=Liga_justicia.copy()\n",
        "justicia_joven"
      ],
      "metadata": {
        "colab": {
          "base_uri": "https://localhost:8080/"
        },
        "id": "25C7PKgxj7N5",
        "outputId": "c30da537-edd7-4ccf-f469-24b2c6e0120f"
      },
      "execution_count": 135,
      "outputs": [
        {
          "output_type": "execute_result",
          "data": {
            "text/plain": [
              "{'indetidades': ['Bruce', 'Clark', 'Diana']}"
            ]
          },
          "metadata": {},
          "execution_count": 135
        }
      ]
    },
    {
      "cell_type": "code",
      "source": [
        "justicia_joven"
      ],
      "metadata": {
        "colab": {
          "base_uri": "https://localhost:8080/"
        },
        "id": "ZB_SEzO-lOOe",
        "outputId": "d4293f65-9fe8-4bc7-8f11-97372407b046"
      },
      "execution_count": 136,
      "outputs": [
        {
          "output_type": "execute_result",
          "data": {
            "text/plain": [
              "{'indetidades': ['Bruce', 'Clark', 'Diana']}"
            ]
          },
          "metadata": {},
          "execution_count": 136
        }
      ]
    },
    {
      "cell_type": "code",
      "source": [
        "Liga_justicia.fromkeys(\"batman\")"
      ],
      "metadata": {
        "colab": {
          "base_uri": "https://localhost:8080/"
        },
        "id": "f-TIvitKmVb9",
        "outputId": "ccd18cc5-317c-4c22-f15e-eaca4922d310"
      },
      "execution_count": 137,
      "outputs": [
        {
          "output_type": "execute_result",
          "data": {
            "text/plain": [
              "{'b': None, 'a': None, 't': None, 'm': None, 'n': None}"
            ]
          },
          "metadata": {},
          "execution_count": 137
        }
      ]
    },
    {
      "cell_type": "code",
      "source": [
        "Liga_justicia.get(\"supeheroes\")"
      ],
      "metadata": {
        "id": "b4pgiewsqlc5"
      },
      "execution_count": 138,
      "outputs": []
    },
    {
      "cell_type": "code",
      "source": [
        "Liga_justicia"
      ],
      "metadata": {
        "colab": {
          "base_uri": "https://localhost:8080/"
        },
        "id": "VydSFiZ0q0KJ",
        "outputId": "1496caf1-bc1a-425b-8ea9-5f95c7f4e187"
      },
      "execution_count": 139,
      "outputs": [
        {
          "output_type": "execute_result",
          "data": {
            "text/plain": [
              "{'indetidades': ['Bruce', 'Clark', 'Diana']}"
            ]
          },
          "metadata": {},
          "execution_count": 139
        }
      ]
    },
    {
      "cell_type": "code",
      "source": [
        "Liga_justicia.popitem()"
      ],
      "metadata": {
        "colab": {
          "base_uri": "https://localhost:8080/"
        },
        "id": "H3-Kz_jNtWc-",
        "outputId": "9294cea6-593c-49fa-c8cc-56b252218246"
      },
      "execution_count": 140,
      "outputs": [
        {
          "output_type": "execute_result",
          "data": {
            "text/plain": [
              "('indetidades', ['Bruce', 'Clark', 'Diana'])"
            ]
          },
          "metadata": {},
          "execution_count": 140
        }
      ]
    }
  ]
}