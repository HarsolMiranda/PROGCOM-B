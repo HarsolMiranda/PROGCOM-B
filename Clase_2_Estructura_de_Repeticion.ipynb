{
  "nbformat": 4,
  "nbformat_minor": 0,
  "metadata": {
    "colab": {
      "provenance": [],
      "authorship_tag": "ABX9TyMAvfdu6DizKYczmXZPKncP",
      "include_colab_link": true
    },
    "kernelspec": {
      "name": "python3",
      "display_name": "Python 3"
    },
    "language_info": {
      "name": "python"
    }
  },
  "cells": [
    {
      "cell_type": "markdown",
      "metadata": {
        "id": "view-in-github",
        "colab_type": "text"
      },
      "source": [
        "<a href=\"https://colab.research.google.com/github/HarsolMiranda/PROGCOM-B/blob/main/Clase_2_Estructura_de_Repeticion.ipynb\" target=\"_parent\"><img src=\"https://colab.research.google.com/assets/colab-badge.svg\" alt=\"Open In Colab\"/></a>"
      ]
    },
    {
      "cell_type": "markdown",
      "source": [
        "#Estructura de repeticion\n",
        "se emplea cunado se desea repetir una parte del codigo, dada una condicion\n",
        "\n",
        "\n",
        "---\n",
        "\n"
      ],
      "metadata": {
        "id": "umKCUqbxk8oI"
      }
    },
    {
      "cell_type": "markdown",
      "source": [
        "## lista\n",
        "son un conjunto de tipo de datos **indexado**, separado por comas, y encerrado entre [].\n",
        "* todos los elemtos de una lista, se empiezan a contar desde  cero *(0)*\n",
        "##creacion de listas\n",
        "* forma general: lista=[]\n",
        "* forma manuel: animales=[\"gato\", \"perro\", zorro, \"oso\"]\n",
        "* por conversacion: numero=list(range(10))\n",
        "\n",
        "\n",
        "---\n",
        "\n"
      ],
      "metadata": {
        "id": "vJXU3n5jva8I"
      }
    },
    {
      "cell_type": "code",
      "source": [
        "lista=[]"
      ],
      "metadata": {
        "id": "_68lRYf3wsP3"
      },
      "execution_count": 3,
      "outputs": []
    },
    {
      "cell_type": "code",
      "source": [
        "type(lista)"
      ],
      "metadata": {
        "colab": {
          "base_uri": "https://localhost:8080/"
        },
        "id": "sWfMojmMw_oI",
        "outputId": "0b0527a7-d66a-4964-9071-5b5d123e4c07"
      },
      "execution_count": 4,
      "outputs": [
        {
          "output_type": "execute_result",
          "data": {
            "text/plain": [
              "list"
            ]
          },
          "metadata": {},
          "execution_count": 4
        }
      ]
    },
    {
      "cell_type": "code",
      "source": [
        "zorro=(1,2,3,4)\n",
        "animales=[\"gato\",\"perro\",zorro,\"oso\"]\n",
        "animales"
      ],
      "metadata": {
        "colab": {
          "base_uri": "https://localhost:8080/"
        },
        "id": "8YnGC83IxPUu",
        "outputId": "d32ff0b7-4a09-4419-b71a-2c996b1498ef"
      },
      "execution_count": 6,
      "outputs": [
        {
          "output_type": "execute_result",
          "data": {
            "text/plain": [
              "['gato', 'perro', (1, 2, 3, 4), 'oso']"
            ]
          },
          "metadata": {},
          "execution_count": 6
        }
      ]
    },
    {
      "cell_type": "code",
      "source": [
        "type(zorro)"
      ],
      "metadata": {
        "colab": {
          "base_uri": "https://localhost:8080/"
        },
        "id": "kUnK3Crqxli-",
        "outputId": "c7027df7-7324-4f59-82c2-04631fced97a"
      },
      "execution_count": 7,
      "outputs": [
        {
          "output_type": "execute_result",
          "data": {
            "text/plain": [
              "tuple"
            ]
          },
          "metadata": {},
          "execution_count": 7
        }
      ]
    },
    {
      "cell_type": "code",
      "source": [
        "numero=list(range(10))\n",
        "numero"
      ],
      "metadata": {
        "colab": {
          "base_uri": "https://localhost:8080/"
        },
        "id": "s1mCvwKOycZ9",
        "outputId": "66defd68-d1e7-4a86-b6ae-5e63bfb74532"
      },
      "execution_count": 8,
      "outputs": [
        {
          "output_type": "execute_result",
          "data": {
            "text/plain": [
              "[0, 1, 2, 3, 4, 5, 6, 7, 8, 9]"
            ]
          },
          "metadata": {},
          "execution_count": 8
        }
      ]
    },
    {
      "cell_type": "code",
      "source": [
        "type(range(10))"
      ],
      "metadata": {
        "colab": {
          "base_uri": "https://localhost:8080/"
        },
        "id": "7XFX01NKywEV",
        "outputId": "69ef627d-7eff-42b5-8f76-b5ce57e66cfc"
      },
      "execution_count": 9,
      "outputs": [
        {
          "output_type": "execute_result",
          "data": {
            "text/plain": [
              "range"
            ]
          },
          "metadata": {},
          "execution_count": 9
        }
      ]
    },
    {
      "cell_type": "code",
      "source": [
        "range(10)"
      ],
      "metadata": {
        "colab": {
          "base_uri": "https://localhost:8080/"
        },
        "id": "76GHFlpOy4-1",
        "outputId": "2ffefff4-8320-496e-b6e1-0cfaaff6e401"
      },
      "execution_count": 10,
      "outputs": [
        {
          "output_type": "execute_result",
          "data": {
            "text/plain": [
              "range(0, 10)"
            ]
          },
          "metadata": {},
          "execution_count": 10
        }
      ]
    },
    {
      "cell_type": "markdown",
      "source": [
        "##Estrutura Para For\n",
        "\n",
        "se usa cuando\n",
        "* se sabe **cauantas veces** se repite una accion\n",
        "* esta compuesta por un cotador y una codicion\n",
        "* **Cotador **: identifica cunata veces se va repetir el blucle y con que frecuencia\n",
        "* ** condicion **: evalua cuando se detiene\n",
        "\n",
        "\n",
        "\n",
        "```\n",
        "for variable in range ( vi, vf+1, paso ):\n",
        "  aqui se repite parte del codigo.\n",
        "```\n",
        "Donde\n",
        "1. vi: condicion inicial. donde arranco a contar\n",
        "2. vf+1: condicion final. donde dejo cotar+1\n",
        "3. paso: freencia de conteo\n",
        "\n",
        "for para recorrido de lista\n",
        "floar=[\"amapola\", \"rosa\", \"tolipan\", \"orquidea\"]\n",
        "* es para va a iterar tantas veces como elementos tenga la lista\n",
        "\n",
        "* varialbe dentro del para, toma como el valor cada elemeto de la lista\n",
        "\n",
        "\n",
        "```\n",
        "for variable in lista :\n",
        "variable\n",
        "```\n",
        "\n",
        "\n",
        "\n",
        "---"
      ],
      "metadata": {
        "id": "q6scSWzklKdp"
      }
    },
    {
      "cell_type": "code",
      "execution_count": 15,
      "metadata": {
        "colab": {
          "base_uri": "https://localhost:8080/"
        },
        "id": "JG8mLOOXkvtp",
        "outputId": "699a9e57-d705-4489-ee31-de846551497b"
      },
      "outputs": [
        {
          "output_type": "stream",
          "name": "stdout",
          "text": [
            "amapola\n",
            "amapola\n",
            "rosa\n",
            "rosa\n",
            "tolipan\n",
            "tolipan\n",
            "orquidea\n",
            "orquidea\n"
          ]
        }
      ],
      "source": [
        "##creando una lista de nombre flor\n",
        "flor=[\"amapola\", \"rosa\", \"tolipan\", \"orquidea\"]\n",
        "for rosa in flor:\n",
        "    print(rosa)\n",
        "    if rosa in flor:\n",
        "      print(rosa)\n",
        "      if rosa==\"tulipan\":\n",
        "        break"
      ]
    },
    {
      "cell_type": "markdown",
      "source": [
        "---"
      ],
      "metadata": {
        "id": "Cx-6hOqU12WD"
      }
    },
    {
      "cell_type": "markdown",
      "source": [
        "## Estrutura while\n",
        "*se emplea cuando **NO SE SABE** cuantas veces se debe repetir una accion, pero si se conoce su conodicion de parada (CP).\n",
        "* codicion inicial: donde arranca el ciclo\n",
        "* codicion final (parada): que indica donde se detiene el ciclo\n",
        "* modificar de condicion inicial\n",
        "\n",
        "# Estrutura general del mientras\n",
        "\n",
        "\n",
        "\n",
        "```\n",
        "Condicion inicial\n",
        "while (condicion==condicil final ):\n",
        "    modificador de condicion inicial\n",
        "```\n",
        "modificadores de condicion inicial\n",
        "* banderas: son booleanos\n",
        "* son preguntas\n",
        "* son contadres o acumiladores\n",
        "\n",
        "\n",
        "---"
      ],
      "metadata": {
        "id": "auCdsuZW131K"
      }
    },
    {
      "cell_type": "code",
      "source": [],
      "metadata": {
        "id": "bVrHIGKg0SCF"
      },
      "execution_count": null,
      "outputs": []
    }
  ]
}