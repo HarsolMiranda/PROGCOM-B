{
  "nbformat": 4,
  "nbformat_minor": 0,
  "metadata": {
    "colab": {
      "provenance": [],
      "authorship_tag": "ABX9TyMugUl8/2QjYu9/QPBQdxJR",
      "include_colab_link": true
    },
    "kernelspec": {
      "name": "python3",
      "display_name": "Python 3"
    },
    "language_info": {
      "name": "python"
    }
  },
  "cells": [
    {
      "cell_type": "markdown",
      "metadata": {
        "id": "view-in-github",
        "colab_type": "text"
      },
      "source": [
        "<a href=\"https://colab.research.google.com/github/HarsolMiranda/PROGCOM-B/blob/main/Taller_diccionario.ipynb\" target=\"_parent\"><img src=\"https://colab.research.google.com/assets/colab-badge.svg\" alt=\"Open In Colab\"/></a>"
      ]
    },
    {
      "cell_type": "code",
      "execution_count": 1,
      "metadata": {
        "colab": {
          "base_uri": "https://localhost:8080/"
        },
        "id": "IrV5KIxWOqcP",
        "outputId": "b1169d22-3756-4a92-f1b9-bc05995addb0"
      },
      "outputs": [
        {
          "output_type": "stream",
          "name": "stdout",
          "text": [
            "Nombres que comienzan con vocal: 3\n"
          ]
        }
      ],
      "source": [
        "###10\tCrea una función que reciba una lista de nombres y retorne cuántos\n",
        "def varable1(nombres):\n",
        "    vocales = {'a', 'e', 'i', 'o', 'u'}\n",
        "    return sum(1 for nombre in nombres if nombre and nombre[0].lower() in vocales)\n",
        "lista = [\"Juliana\", \"Daniel\", \"Mile\", \"Ana\", \"Eracles\", \"Wendy\", \"Urano\", \"Beatriz\"]\n",
        "resultado = varable1(lista)\n",
        "print(f\"Nombres que comienzan con vocal: {resultado}\")\n"
      ]
    }
  ]
}