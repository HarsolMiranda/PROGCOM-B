{
  "nbformat": 4,
  "nbformat_minor": 0,
  "metadata": {
    "colab": {
      "provenance": [],
      "authorship_tag": "ABX9TyNWO/l+yJCGXdF76GHJIURw",
      "include_colab_link": true
    },
    "kernelspec": {
      "name": "python3",
      "display_name": "Python 3"
    },
    "language_info": {
      "name": "python"
    }
  },
  "cells": [
    {
      "cell_type": "markdown",
      "metadata": {
        "id": "view-in-github",
        "colab_type": "text"
      },
      "source": [
        "<a href=\"https://colab.research.google.com/github/HarsolMiranda/PROGCOM-B/blob/main/progama_de_la_carrera.ipynb\" target=\"_parent\"><img src=\"https://colab.research.google.com/assets/colab-badge.svg\" alt=\"Open In Colab\"/></a>"
      ]
    },
    {
      "cell_type": "code",
      "execution_count": null,
      "metadata": {
        "colab": {
          "base_uri": "https://localhost:8080/"
        },
        "id": "zES1fb0vJ42b",
        "outputId": "2c01bc87-8450-41d8-9628-0113b79e54f7"
      },
      "outputs": [
        {
          "metadata": {
            "tags": null
          },
          "name": "stdout",
          "output_type": "stream",
          "text": [
            "\n",
            "=== Calculadora de Termofluidos ===\n",
            "1. Gases ideales\n",
            "2. Número de Reynolds\n",
            "3. Pérdida de carga\n",
            "4. Salir\n"
          ]
        }
      ],
      "source": [
        "import math\n",
        "\n",
        "R = 8.314\n",
        "g = 9.81\n",
        "\n",
        "def gas_ideal():\n",
        "    print(\"\\n--- Cálculo de Gases Ideales ---\")\n",
        "    print(\"¿Qué variable quieres calcular? (P, V, T)\")\n",
        "    var = input(\"Escribe P, V o T: \").upper()\n",
        "\n",
        "    n = float(input(\"Cantidad de sustancia (n) en moles: \"))\n",
        "    if var == \"P\":\n",
        "        V = float(input(\"Volumen (m³): \"))\n",
        "        T = float(input(\"Temperatura (K): \"))\n",
        "        P = (n * R * T) / V\n",
        "        print(f\"Presión calculada: {P:.2f} Pa\")\n",
        "    elif var == \"V\":\n",
        "        P = float(input(\"Presión (Pa): \"))\n",
        "        T = float(input(\"Temperatura (K): \"))\n",
        "        V = (n * R * T) / P\n",
        "        print(f\"Volumen calculado: {V:.4f} m³\")\n",
        "    elif var == \"T\":\n",
        "        P = float(input(\"Presión (Pa): \"))\n",
        "        V = float(input(\"Volumen (m³): \"))\n",
        "        T = (P * V) / (n * R)\n",
        "        print(f\"Temperatura calculada: {T:.2f} K\")\n",
        "    else:\n",
        "        print(\"Opción no válida.\")\n",
        "\n",
        "def reynolds():\n",
        "    print(\"\\n--- Cálculo del Número de Reynolds ---\")\n",
        "    rho = float(input(\"Densidad del fluido (kg/m³): \"))\n",
        "    v = float(input(\"Velocidad del fluido (m/s): \"))\n",
        "    D = float(input(\"Diámetro hidráulico (m): \"))\n",
        "    mu = float(input(\"Viscosidad dinámica (Pa·s): \"))\n",
        "    Re = (rho * v * D) / mu\n",
        "    tipo = \"laminar\" if Re < 2000 else \"transicional\" if Re < 4000 else \"turbulento\"\n",
        "    print(f\"Reynolds: {Re:.2f} → Flujo {tipo}\")\n",
        "\n",
        "def perdida_carga():\n",
        "    print(\"\\n--- Cálculo de Pérdida de Carga ---\")\n",
        "    f = float(input(\"Coeficiente de fricción (f): \"))\n",
        "    L = float(input(\"Longitud de la tubería (m): \"))\n",
        "    D = float(input(\"Diámetro de la tubería (m): \"))\n",
        "    v = float(input(\"Velocidad del fluido (m/s): \"))\n",
        "    hf = f * (L / D) * (v**2 / (2 * g))\n",
        "    print(f\"Pérdida de carga: {hf:.2f} m\")\n",
        "\n",
        "# Menú principal\n",
        "while True:\n",
        "    print(\"\\n=== Calculadora de Termofluidos ===\")\n",
        "    print(\"1. Gases ideales\")\n",
        "    print(\"2. Número de Reynolds\")\n",
        "    print(\"3. Pérdida de carga\")\n",
        "    print(\"4. Salir\")\n",
        "    opcion = input(\"Selecciona una opción (1-4): \")\n",
        "\n",
        "    if opcion == \"1\":\n",
        "        gas_ideal()\n",
        "    elif opcion == \"2\":\n",
        "        reynolds()\n",
        "    elif opcion == \"3\":\n",
        "        perdida_carga()\n",
        "    elif opcion == \"4\":\n",
        "        print(\"¡Hasta luego!\")\n",
        "        break\n",
        "    else:\n",
        "        print(\"Opción inválida. Intenta de nuevo.\")"
      ]
    }
  ]
}