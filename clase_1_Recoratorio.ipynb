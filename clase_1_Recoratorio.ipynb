{
  "nbformat": 4,
  "nbformat_minor": 0,
  "metadata": {
    "colab": {
      "provenance": []
    },
    "kernelspec": {
      "name": "python3",
      "display_name": "Python 3"
    },
    "language_info": {
      "name": "python"
    }
  },
  "cells": [
    {
      "cell_type": "markdown",
      "source": [
        "#Estructura de repeticion\n",
        "se emplean cuando quiero evaluar una condicion. el resultado de la evaluacion de esta codicion siempre se da en booleano (v o f )"
      ],
      "metadata": {
        "id": "XFktNgZlMOZX"
      }
    },
    {
      "cell_type": "markdown",
      "source": [
        "# estuctura if-else\n",
        "\n",
        "if (codicion):\n",
        "  dentro aqui, si la conicion dio V\n",
        "\n",
        "else:\n",
        "  dentro aqui, si la codicion = F\n"
      ],
      "metadata": {
        "id": "kDcqhhZSM-Kt"
      }
    },
    {
      "cell_type": "markdown",
      "source": [
        "#Estrutura de decicion miltiple if-elif-else\n",
        "se emplea cuando hay mas de una decicion\n",
        "\n",
        "\n",
        "```\n",
        "if (cond1):\n",
        "  si cold1 es verdadero, entroaqui\n",
        "elif (cond2):\n",
        "  si cold1 es falso, Pero cond2 es verdadero, entero aqui\n",
        "elif (cond3):\n",
        "  si cold1 y conl2 son falsos, PERO cond3 es verdadero, dentro aqui\n",
        "else: si cond1 y cond2 y cond3 y cond n son falsa, entrara aqui  \n",
        "```\n",
        "\n",
        "\n",
        "\n",
        "\n",
        "\n"
      ],
      "metadata": {
        "id": "Z-B6zByoQPqb"
      }
    },
    {
      "cell_type": "markdown",
      "source": [
        "##Operacion terniario\n",
        "progamar una estructua de seleccio para porgamar solo una linea de codigo\n",
        "\n",
        "\n",
        "\n",
        "```\n",
        "(lo que se ejecuta, si la condicion es verdadera) if (codicion) else (lo que es debe ejecutar, si la condicion es falsa)\n",
        "```\n",
        "\n",
        "\n",
        "\n"
      ],
      "metadata": {
        "id": "pEHkhm0wVx89"
      }
    },
    {
      "cell_type": "code",
      "source": [
        "#1 es divisible entre 4\n",
        "#2 es divisivle entre 400 pero no entre 100\n",
        "año=int(input(\"introduzca un año:\"))\n",
        "if (año%4==0 and año%100!=0):\n",
        "  print(f\"{año} es un año bisiesto\")\n",
        "else:\n",
        "  if año%400==0:\n",
        "    print(f\"{año} es un año bisiesto\")\n",
        "  else:\n",
        "    print(f\"{año} No es un año bisiesto\")"
      ],
      "metadata": {
        "colab": {
          "base_uri": "https://localhost:8080/"
        },
        "id": "A7xa8P7ZM9z-",
        "outputId": "ae9750a4-23e5-4c59-d2cd-d06a2d9711eb"
      },
      "execution_count": 7,
      "outputs": [
        {
          "output_type": "stream",
          "name": "stdout",
          "text": [
            "introduzca un año:2000\n",
            "2000 es un año bisiesto\n"
          ]
        }
      ]
    },
    {
      "cell_type": "code",
      "execution_count": 8,
      "metadata": {
        "colab": {
          "base_uri": "https://localhost:8080/"
        },
        "id": "2uTFO6vQLWyu",
        "outputId": "5ce94cd1-b69e-48fc-ed04-f045f76478e6"
      },
      "outputs": [
        {
          "output_type": "stream",
          "name": "stdout",
          "text": [
            "2000 NO es un año bisiesto\n"
          ]
        }
      ],
      "source": [
        "if (año%4==0 and año%100!=0):\n",
        "  print(f\"{año} es un año bisiesto\")\n",
        "elif año%400==9:\n",
        "  print(f\"{año} es un año bisiesto\")\n",
        "else:\n",
        "  print(f\"{año} NO es un año bisiesto\")"
      ]
    },
    {
      "cell_type": "code",
      "source": [
        "#Indique si un numero positivo\n",
        "\n",
        "num=int(input (\"ingrese un numero \"))\n",
        "if num > 0:\n",
        "  print(f\"el munero es positvo\")\n",
        "else:\n",
        "  print(f\"el numero es negativo\")"
      ],
      "metadata": {
        "colab": {
          "base_uri": "https://localhost:8080/"
        },
        "id": "lOVcYMaZVKGg",
        "outputId": "35bc7784-1b27-47a4-f56d-b9ad2004d098"
      },
      "execution_count": 9,
      "outputs": [
        {
          "output_type": "stream",
          "name": "stdout",
          "text": [
            "ingrese un numero 5\n",
            "el munero es positvo\n"
          ]
        }
      ]
    },
    {
      "cell_type": "code",
      "source": [
        "#Indique si un numero positivo\n",
        "\n",
        "num=int(input (\"ingrese un numero \"))\n",
        "if num > 0:\n",
        "  print(f\"{num} el munero es positvo\")\n",
        "elif num == 0:\n",
        "  print(f\"{num} el munero Positivo\")\n",
        "else:\n",
        "  print(f\"{num} el numero es negativo\")"
      ],
      "metadata": {
        "colab": {
          "base_uri": "https://localhost:8080/"
        },
        "id": "5i2ZgngmXcGH",
        "outputId": "6da65eb8-3dde-4db6-b56e-0a06baa715e5"
      },
      "execution_count": 13,
      "outputs": [
        {
          "output_type": "stream",
          "name": "stdout",
          "text": [
            "ingrese un numero -9\n",
            "-9 el numero es negativo\n"
          ]
        }
      ]
    },
    {
      "cell_type": "code",
      "source": [
        "a=f\"{año} es un año bisiesto\" if (año%4==0 and año%100!=0) else b\n",
        "b=f\"{año} es un año bisiesto\" if año%400==0 else f\"{año} no es bisiesto\"\n",
        "print(a)"
      ],
      "metadata": {
        "colab": {
          "base_uri": "https://localhost:8080/",
          "height": 176
        },
        "id": "MrMaWfKXZXMs",
        "outputId": "b496600e-6936-422f-c686-d04781c6f8a1"
      },
      "execution_count": 20,
      "outputs": [
        {
          "output_type": "error",
          "ename": "NameError",
          "evalue": "name 'b' is not defined",
          "traceback": [
            "\u001b[0;31m---------------------------------------------------------------------------\u001b[0m",
            "\u001b[0;31mNameError\u001b[0m                                 Traceback (most recent call last)",
            "\u001b[0;32m/tmp/ipython-input-1951944422.py\u001b[0m in \u001b[0;36m<cell line: 0>\u001b[0;34m()\u001b[0m\n\u001b[0;32m----> 1\u001b[0;31m \u001b[0ma\u001b[0m\u001b[0;34m=\u001b[0m\u001b[0;34mf\"{año} es un año bisiesto\"\u001b[0m \u001b[0;32mif\u001b[0m \u001b[0;34m(\u001b[0m\u001b[0maño\u001b[0m\u001b[0;34m%\u001b[0m\u001b[0;36m4\u001b[0m\u001b[0;34m==\u001b[0m\u001b[0;36m0\u001b[0m \u001b[0;32mand\u001b[0m \u001b[0maño\u001b[0m\u001b[0;34m%\u001b[0m\u001b[0;36m100\u001b[0m\u001b[0;34m!=\u001b[0m\u001b[0;36m0\u001b[0m\u001b[0;34m)\u001b[0m \u001b[0;32melse\u001b[0m \u001b[0mb\u001b[0m\u001b[0;34m\u001b[0m\u001b[0;34m\u001b[0m\u001b[0m\n\u001b[0m\u001b[1;32m      2\u001b[0m \u001b[0mb\u001b[0m\u001b[0;34m=\u001b[0m\u001b[0;34mf\"{año} es un año bisiesto\"\u001b[0m \u001b[0;32mif\u001b[0m \u001b[0maño\u001b[0m\u001b[0;34m%\u001b[0m\u001b[0;36m400\u001b[0m\u001b[0;34m==\u001b[0m\u001b[0;36m0\u001b[0m \u001b[0;32melse\u001b[0m \u001b[0;34mf\"{año} no es bisiesto\"\u001b[0m\u001b[0;34m\u001b[0m\u001b[0;34m\u001b[0m\u001b[0m\n\u001b[1;32m      3\u001b[0m \u001b[0mprint\u001b[0m\u001b[0;34m(\u001b[0m\u001b[0ma\u001b[0m\u001b[0;34m)\u001b[0m\u001b[0;34m\u001b[0m\u001b[0;34m\u001b[0m\u001b[0m\n",
            "\u001b[0;31mNameError\u001b[0m: name 'b' is not defined"
          ]
        }
      ]
    },
    {
      "cell_type": "code",
      "source": [
        "##Escriba si la persona es mayor de edad\n",
        "num=int(input (\"ingrese la edad de la persona \"))\n",
        "if num > 0:\n",
        "  print(f\"segun al Ley 27 de 1977 de Colombia eres mayor de edad\")\n",
        "else:\n",
        "  print(f\"segun al Ley 27 de 1977 de Colombia eres menor de edad\")\n"
      ],
      "metadata": {
        "id": "hMyFAvmKaYYC"
      },
      "execution_count": null,
      "outputs": []
    },
    {
      "cell_type": "code",
      "source": [
        "##Escriba si la persona es mayor de edad\n",
        "num=int(input (\"ingrese la edad de la persona \"))\n",
        "if num > 18:\n",
        "  print(f\"segun al Ley 27 de 1977 de Colombia eres mayor de edad \")\n",
        "elif num == 18:\n",
        "  print(f\"{num} segun al Ley 27 de 1977 de Colombia eres mayor de edad\")\n",
        "else :\n",
        "  print(f\"segun al Ley 27 de 1977 de Colombia eres menor de edad\")\n"
      ],
      "metadata": {
        "colab": {
          "base_uri": "https://localhost:8080/"
        },
        "id": "DSJDJcM-az7K",
        "outputId": "964c4c0f-a9c2-4e90-d9c3-2990f9ef1eb2"
      },
      "execution_count": 25,
      "outputs": [
        {
          "output_type": "stream",
          "name": "stdout",
          "text": [
            "ingrese la edad de la persona 58897\n",
            "segun al Ley 27 de 1977 de Colombia eres añor de edad \n"
          ]
        }
      ]
    },
    {
      "cell_type": "code",
      "source": [
        "##Saber cual de los 2 es mayor\n",
        "num=int(input (\"ingrese un numero \"))\n",
        "num2=int(input (\"ingrese un numero \"))\n",
        "if num > num2:\n",
        "  print(f\"el munero mayor es\", num )\n",
        "else:\n",
        "  print(f\"el numero mayor es\", num2)\n"
      ],
      "metadata": {
        "id": "XfRakG_fbwtT"
      },
      "execution_count": null,
      "outputs": []
    },
    {
      "cell_type": "code",
      "source": [
        "##Saber cual de los 2 es mayor\n",
        "num=int(input (\"ingrese un numero \"))\n",
        "num2=int(input (\"ingrese un numero \"))\n",
        "if num > num2:\n",
        "  print(f\"el munero mayor es\", num )\n",
        "elif num2 > num:\n",
        "  print(f\"el munero mayor es\", num2 )\n",
        "else:\n",
        "  print(\"Ambos hermanos tienen la misma edad.\")\n"
      ],
      "metadata": {
        "colab": {
          "base_uri": "https://localhost:8080/"
        },
        "id": "F1ff81Hzb4_4",
        "outputId": "739f26db-20ce-461f-d2b2-06a3b234e976"
      },
      "execution_count": 29,
      "outputs": [
        {
          "output_type": "stream",
          "name": "stdout",
          "text": [
            "ingrese un numero 0\n",
            "ingrese un numero 1\n",
            "el munero mayor es 1\n"
          ]
        }
      ]
    },
    {
      "cell_type": "code",
      "source": [
        "##Saber si un estudiante aprobo o no\n",
        "num=int(input (\"ingrese la calificacion del estudiante \"))\n",
        "if num >= 60:\n",
        "  print(f\"el estudiante es aprobo\")\n",
        "else:\n",
        "  print(f\"el estudiante es reprobo\")\n"
      ],
      "metadata": {
        "id": "wlpa1FvzeI4m"
      },
      "execution_count": null,
      "outputs": []
    },
    {
      "cell_type": "code",
      "source": [
        "##Saber si un estudiante aprobo o no\n",
        "num=int(input (\"ingrese la calificacion del estudiante \"))\n",
        "if num >= 60:\n",
        "  print(f\"el estudiante es aprobo\")\n",
        "elif num == 60:\n",
        "  print(f\"el estudiante es aprobo\" )\n",
        "else:\n",
        "  print(f\"el estudiante es reprobo\")\n"
      ],
      "metadata": {
        "colab": {
          "base_uri": "https://localhost:8080/"
        },
        "id": "IF6zH9YCfNU9",
        "outputId": "073c34b2-6b60-4577-bb31-4ed74d0df422"
      },
      "execution_count": 34,
      "outputs": [
        {
          "output_type": "stream",
          "name": "stdout",
          "text": [
            "ingrese la calificacion del estudiante 60\n",
            "el estudiante es aprobo\n"
          ]
        }
      ]
    }
  ]
}