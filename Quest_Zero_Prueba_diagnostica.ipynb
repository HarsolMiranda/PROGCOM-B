{
  "nbformat": 4,
  "nbformat_minor": 0,
  "metadata": {
    "colab": {
      "provenance": []
    },
    "kernelspec": {
      "name": "python3",
      "display_name": "Python 3"
    },
    "language_info": {
      "name": "python"
    }
  },
  "cells": [
    {
      "cell_type": "markdown",
      "source": [
        "#Prueba dignostica"
      ],
      "metadata": {
        "id": "2s8mYg6lp2j4"
      }
    },
    {
      "cell_type": "markdown",
      "source": [],
      "metadata": {
        "id": "JW4IcVKFqU4u"
      }
    },
    {
      "cell_type": "code",
      "execution_count": 29,
      "metadata": {
        "colab": {
          "base_uri": "https://localhost:8080/"
        },
        "id": "zUdtH9hUpclB",
        "outputId": "ba5da282-b657-4fc2-9728-6c25c0ae98ee"
      },
      "outputs": [
        {
          "output_type": "stream",
          "name": "stdout",
          "text": [
            "ingrese un numero -5\n",
            "el numero es negativo\n"
          ]
        }
      ],
      "source": [
        "##Saber cual numero es mayor\n",
        "num=int(input (\"ingrese un numero \"))\n",
        "if num > 0:\n",
        "  print(f\"el munero es positvo\")\n",
        "else:\n",
        "  print(f\"el numero es negativo\")\n"
      ]
    },
    {
      "cell_type": "code",
      "source": [
        "##Escriba si la persona es mayor de edad\n",
        "num=int(input (\"ingrese la edad de la persona \"))\n",
        "if num > 0:\n",
        "  print(f\"la persona es mayor de edad\")\n",
        "else:\n",
        "  print(f\"la persona es menor de edad\")\n"
      ],
      "metadata": {
        "colab": {
          "base_uri": "https://localhost:8080/"
        },
        "id": "9rlx35gwudAr",
        "outputId": "3c16c71f-8ba2-437a-b2bb-dc1944da60be"
      },
      "execution_count": 30,
      "outputs": [
        {
          "output_type": "stream",
          "name": "stdout",
          "text": [
            "ingrese la edad de la persona 25\n",
            "el munero es positvo\n"
          ]
        }
      ]
    },
    {
      "cell_type": "code",
      "source": [
        "##Saber cual de los 2 es mayor\n",
        "num=int(input (\"ingrese un numero \"))\n",
        "num2=int(input (\"ingrese un numero \"))\n",
        "if num > num2:\n",
        "  print(f\"el munero mayor es\", num )\n",
        "else:\n",
        "  print(f\"el numero mayor es\", num2)\n"
      ],
      "metadata": {
        "colab": {
          "base_uri": "https://localhost:8080/"
        },
        "id": "R04Uv5dSusF8",
        "outputId": "5a5abb98-96cd-4c67-8895-1829579ac5f4"
      },
      "execution_count": 39,
      "outputs": [
        {
          "output_type": "stream",
          "name": "stdout",
          "text": [
            "ingrese un numero 98\n",
            "ingrese un numero 100\n",
            "el numero mayor es 100\n"
          ]
        }
      ]
    },
    {
      "cell_type": "code",
      "source": [
        "##Saber si un estudiante aprobo o no\n",
        "num=int(input (\"ingrese la calificacion del estudiante \"))\n",
        "if num >= 60:\n",
        "  print(f\"el estudiante es aprobo\")\n",
        "else:\n",
        "  print(f\"el estudiante es reprobo\")\n"
      ],
      "metadata": {
        "colab": {
          "base_uri": "https://localhost:8080/"
        },
        "id": "ZyxDsLatvUBC",
        "outputId": "63403b9a-075f-430a-c61f-ab26a60c09f1"
      },
      "execution_count": 40,
      "outputs": [
        {
          "output_type": "stream",
          "name": "stdout",
          "text": [
            "ingrese la calificacion del estudiante 30\n",
            "el estudiante es reprobo\n"
          ]
        }
      ]
    },
    {
      "cell_type": "code",
      "source": [
        "##Par y impar incompleto\n",
        "from ast import mod\n",
        "num=float(input (\"ingrese la calificacion del estudiante \"))\n",
        "if num/2 :\n",
        "  print(f\"el estudiante es aprobo\")\n",
        "else:\n",
        "  print(f\"el estudiante es reprobo\")\n",
        "##Par y impar incompleto"
      ],
      "metadata": {
        "colab": {
          "base_uri": "https://localhost:8080/"
        },
        "id": "DlA1w3L4vopT",
        "outputId": "b3ce9fe4-9f96-410d-d610-8b5e5d776e4d"
      },
      "execution_count": 49,
      "outputs": [
        {
          "output_type": "stream",
          "name": "stdout",
          "text": [
            "ingrese la calificacion del estudiante 8\n",
            "el estudiante es aprobo\n"
          ]
        }
      ]
    },
    {
      "cell_type": "code",
      "source": [],
      "metadata": {
        "colab": {
          "base_uri": "https://localhost:8080/",
          "height": 106
        },
        "id": "VfvWoP0GxmTj",
        "outputId": "f502cb76-da6e-486d-8a22-26dc5194f28a"
      },
      "execution_count": 95,
      "outputs": [
        {
          "output_type": "error",
          "ename": "SyntaxError",
          "evalue": "invalid syntax (ipython-input-4161790137.py, line 5)",
          "traceback": [
            "\u001b[0;36m  File \u001b[0;32m\"/tmp/ipython-input-4161790137.py\"\u001b[0;36m, line \u001b[0;32m5\u001b[0m\n\u001b[0;31m    print(f\"el munero mayor es\", num ):\u001b[0m\n\u001b[0m                                      ^\u001b[0m\n\u001b[0;31mSyntaxError\u001b[0m\u001b[0;31m:\u001b[0m invalid syntax\n"
          ]
        }
      ]
    },
    {
      "cell_type": "code",
      "source": [],
      "metadata": {
        "id": "4qUg2bjK1fXf"
      },
      "execution_count": null,
      "outputs": []
    }
  ]
}